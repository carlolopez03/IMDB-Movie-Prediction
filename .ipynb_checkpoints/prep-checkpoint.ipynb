{
 "cells": [
  {
   "cell_type": "code",
   "execution_count": 1,
   "id": "a7ee15df-72fc-44ad-b318-78c0207a9937",
   "metadata": {},
   "outputs": [
    {
     "name": "stdout",
     "output_type": "stream",
     "text": [
      "{'data': {'ml': {'label_encoder': 'data/label-encoder.joblib',\n",
      "                 'target_lookup': 'data/target-lookup-dict.joblib',\n",
      "                 'test': 'Data/testing-data.joblib',\n",
      "                 'train': 'Data/training-data.joblib'},\n",
      "          'raw': {'eda': 'Data_NLP/processed_reviews_v2.csv',\n",
      "                  'full': 'Data_NLP/movie_reviews_v2.csv'}},\n",
      " 'models': {'nbayes': 'Models/multinomialnb/nbayes.joblib'}}\n"
     ]
    }
   ],
   "source": [
    "from pprint import pprint\n",
    "FPATHS = dict(\n",
    "    data={\n",
    "        \"raw\": {\n",
    "            \"full\": \"Data_NLP/movie_reviews_v2.csv\",  # (This is the original full dataframe we already have)\n",
    "            \"eda\": \"Data_NLP/processed_reviews_v2.csv\" # We haven't saved this yet\n",
    "        },\n",
    "        \"ml\": {\n",
    "            \"train\": \"Data/training-data.joblib\",  # (X_train,y_train) We haven't saved this yet\n",
    "            \"test\": \"Data/testing-data.joblib\",  # (X_test,y_test) We haven't saved this yet\n",
    "            \n",
    "            \"label_encoder\":\"data/label-encoder.joblib\",\n",
    "            \"target_lookup\":\"data/target-lookup-dict.joblib\",\n",
    "        },\n",
    "    },\n",
    "    models={\n",
    "        \"nbayes\": \"Models/multinomialnb/nbayes.joblib\"\n",
    "    }\n",
    ")\n",
    "pprint(FPATHS)"
   ]
  },
  {
   "cell_type": "code",
   "execution_count": 2,
   "id": "f2f7010f-e804-434e-bd1e-552a924a69da",
   "metadata": {},
   "outputs": [],
   "source": [
    " ## Save the filepaths \n",
    "import os, json\n",
    "os.makedirs('Config/', exist_ok=True)\n",
    "FPATHS_FILE = 'Config/filepaths.json'\n",
    "with open(FPATHS_FILE, 'w') as f:\n",
    "    json.dump(FPATHS, f)"
   ]
  },
  {
   "cell_type": "code",
   "execution_count": 3,
   "id": "96cd0e50-d380-42e4-a504-32997c843b54",
   "metadata": {},
   "outputs": [],
   "source": [
    "def create_directories_from_paths(nested_dict):\n",
    "    \"\"\"OpenAI. (2023). ChatGPT [Large language model]. https://chat.openai.com \n",
    "    Recursively create directories for file paths in a nested dictionary.\n",
    "    Parameters:\n",
    "    nested_dict (dict): The nested dictionary containing file paths.\n",
    "    \"\"\"\n",
    "    for key, value in nested_dict.items():\n",
    "        if isinstance(value, dict):\n",
    "            # If the value is a dictionary, recurse into it\n",
    "            create_directories_from_paths(value)\n",
    "        elif isinstance(value, str):\n",
    "            # If the value is a string, treat it as a file path and get the directory path\n",
    "            directory_path = os.path.dirname(value)\n",
    "            # If the directory path is not empty and the directory does not exist, create it\n",
    "            if directory_path and not os.path.exists(directory_path):\n",
    "                os.makedirs(directory_path)\n",
    "                print(f\"Directory created: {directory_path}\")\n",
    "\n",
    "# Use the function on your FPATHS dictionary\n",
    "create_directories_from_paths(FPATHS)"
   ]
  },
  {
   "cell_type": "code",
   "execution_count": 4,
   "id": "54b9c9fc-e92c-43a6-a6f4-1c782854b7d0",
   "metadata": {
    "scrolled": true
   },
   "outputs": [
    {
     "data": {
      "text/html": [
       "<div>\n",
       "<style scoped>\n",
       "    .dataframe tbody tr th:only-of-type {\n",
       "        vertical-align: middle;\n",
       "    }\n",
       "\n",
       "    .dataframe tbody tr th {\n",
       "        vertical-align: top;\n",
       "    }\n",
       "\n",
       "    .dataframe thead th {\n",
       "        text-align: right;\n",
       "    }\n",
       "</style>\n",
       "<table border=\"1\" class=\"dataframe\">\n",
       "  <thead>\n",
       "    <tr style=\"text-align: right;\">\n",
       "      <th></th>\n",
       "      <th>review_id</th>\n",
       "      <th>movie_id</th>\n",
       "      <th>imdb_id</th>\n",
       "      <th>original_title</th>\n",
       "      <th>review</th>\n",
       "      <th>rating</th>\n",
       "    </tr>\n",
       "  </thead>\n",
       "  <tbody>\n",
       "    <tr>\n",
       "      <th>0</th>\n",
       "      <td>64ecc16e83901800af821d50</td>\n",
       "      <td>843</td>\n",
       "      <td>tt0118694</td>\n",
       "      <td>花樣年華</td>\n",
       "      <td>This is a fine piece of cinema from Wong Kar-W...</td>\n",
       "      <td>7.0</td>\n",
       "    </tr>\n",
       "    <tr>\n",
       "      <th>1</th>\n",
       "      <td>57086ff5c3a3681d29001512</td>\n",
       "      <td>7443</td>\n",
       "      <td>tt0120630</td>\n",
       "      <td>Chicken Run</td>\n",
       "      <td>A guilty pleasure for me personally, as I love...</td>\n",
       "      <td>9.0</td>\n",
       "    </tr>\n",
       "    <tr>\n",
       "      <th>2</th>\n",
       "      <td>5bb5ac829251410dcb00810c</td>\n",
       "      <td>7443</td>\n",
       "      <td>tt0120630</td>\n",
       "      <td>Chicken Run</td>\n",
       "      <td>Made my roommate who hates stop-motion animati...</td>\n",
       "      <td>6.0</td>\n",
       "    </tr>\n",
       "    <tr>\n",
       "      <th>3</th>\n",
       "      <td>5f0c53a013a32000357ec505</td>\n",
       "      <td>7443</td>\n",
       "      <td>tt0120630</td>\n",
       "      <td>Chicken Run</td>\n",
       "      <td>A very good stop-motion animation!\\r\\n\\r\\n&lt;em&gt;...</td>\n",
       "      <td>8.0</td>\n",
       "    </tr>\n",
       "    <tr>\n",
       "      <th>4</th>\n",
       "      <td>64ecc027594c9400ffe77c91</td>\n",
       "      <td>7443</td>\n",
       "      <td>tt0120630</td>\n",
       "      <td>Chicken Run</td>\n",
       "      <td>Ok, there is an huge temptation to riddle this...</td>\n",
       "      <td>7.0</td>\n",
       "    </tr>\n",
       "  </tbody>\n",
       "</table>\n",
       "</div>"
      ],
      "text/plain": [
       "                  review_id  movie_id    imdb_id original_title  \\\n",
       "0  64ecc16e83901800af821d50       843  tt0118694           花樣年華   \n",
       "1  57086ff5c3a3681d29001512      7443  tt0120630    Chicken Run   \n",
       "2  5bb5ac829251410dcb00810c      7443  tt0120630    Chicken Run   \n",
       "3  5f0c53a013a32000357ec505      7443  tt0120630    Chicken Run   \n",
       "4  64ecc027594c9400ffe77c91      7443  tt0120630    Chicken Run   \n",
       "\n",
       "                                              review  rating  \n",
       "0  This is a fine piece of cinema from Wong Kar-W...     7.0  \n",
       "1  A guilty pleasure for me personally, as I love...     9.0  \n",
       "2  Made my roommate who hates stop-motion animati...     6.0  \n",
       "3  A very good stop-motion animation!\\r\\n\\r\\n<em>...     8.0  \n",
       "4  Ok, there is an huge temptation to riddle this...     7.0  "
      ]
     },
     "execution_count": 4,
     "metadata": {},
     "output_type": "execute_result"
    }
   ],
   "source": [
    "import pandas as pd\n",
    "fpath = FPATHS['data']['raw']['full']\n",
    "# Read in as normal\n",
    "df_full = pd.read_csv(fpath)\n",
    "df_full.head()"
   ]
  },
  {
   "cell_type": "code",
   "execution_count": 5,
   "id": "cf1f648e-45b5-428b-b160-27cd9ee826a8",
   "metadata": {
    "scrolled": true
   },
   "outputs": [
    {
     "data": {
      "text/html": [
       "<div>\n",
       "<style scoped>\n",
       "    .dataframe tbody tr th:only-of-type {\n",
       "        vertical-align: middle;\n",
       "    }\n",
       "\n",
       "    .dataframe tbody tr th {\n",
       "        vertical-align: top;\n",
       "    }\n",
       "\n",
       "    .dataframe thead th {\n",
       "        text-align: right;\n",
       "    }\n",
       "</style>\n",
       "<table border=\"1\" class=\"dataframe\">\n",
       "  <thead>\n",
       "    <tr style=\"text-align: right;\">\n",
       "      <th></th>\n",
       "      <th>review_id</th>\n",
       "      <th>movie_id</th>\n",
       "      <th>imdb_id</th>\n",
       "      <th>original_title</th>\n",
       "      <th>review</th>\n",
       "      <th>new_rating</th>\n",
       "      <th>lower_review</th>\n",
       "      <th>tokens</th>\n",
       "      <th>clean_tokens</th>\n",
       "      <th>spacy_lemmas</th>\n",
       "      <th>tokens_joined</th>\n",
       "      <th>lemmas_joined</th>\n",
       "    </tr>\n",
       "  </thead>\n",
       "  <tbody>\n",
       "    <tr>\n",
       "      <th>0</th>\n",
       "      <td>64ecc16e83901800af821d50</td>\n",
       "      <td>843</td>\n",
       "      <td>tt0118694</td>\n",
       "      <td>花樣年華</td>\n",
       "      <td>This is a fine piece of cinema from Wong Kar-W...</td>\n",
       "      <td>NaN</td>\n",
       "      <td>this is a fine piece of cinema from wong kar-w...</td>\n",
       "      <td>['this', 'is', 'a', 'fine', 'piece', 'of', 'ci...</td>\n",
       "      <td>['fine', 'piece', 'cinema', 'wong', 'kar-wai',...</td>\n",
       "      <td>['fine', 'piece', 'cinema', 'wong', 'kar', 'wa...</td>\n",
       "      <td>fine piece cinema wong kar-wai tells us story ...</td>\n",
       "      <td>fine piece cinema wong kar wai tell story peop...</td>\n",
       "    </tr>\n",
       "    <tr>\n",
       "      <th>1</th>\n",
       "      <td>57086ff5c3a3681d29001512</td>\n",
       "      <td>7443</td>\n",
       "      <td>tt0120630</td>\n",
       "      <td>Chicken Run</td>\n",
       "      <td>A guilty pleasure for me personally, as I love...</td>\n",
       "      <td>High</td>\n",
       "      <td>a guilty pleasure for me personally, as i love...</td>\n",
       "      <td>['a', 'guilty', 'pleasure', 'for', 'me', 'pers...</td>\n",
       "      <td>['guilty', 'pleasure', 'personally', 'love', \"...</td>\n",
       "      <td>['guilty', 'pleasure', 'personally', 'love', '...</td>\n",
       "      <td>guilty pleasure personally love 'the great esc...</td>\n",
       "      <td>guilty pleasure personally love great escape w...</td>\n",
       "    </tr>\n",
       "    <tr>\n",
       "      <th>2</th>\n",
       "      <td>64ecc027594c9400ffe77c91</td>\n",
       "      <td>7443</td>\n",
       "      <td>tt0120630</td>\n",
       "      <td>Chicken Run</td>\n",
       "      <td>Ok, there is an huge temptation to riddle this...</td>\n",
       "      <td>NaN</td>\n",
       "      <td>ok, there is an huge temptation to riddle this...</td>\n",
       "      <td>['ok', ',', 'there', 'is', 'an', 'huge', 'temp...</td>\n",
       "      <td>['ok', 'huge', 'temptation', 'riddle', 'review...</td>\n",
       "      <td>['ok', 'huge', 'temptation', 'riddle', 'review...</td>\n",
       "      <td>ok huge temptation riddle review puns 'm going...</td>\n",
       "      <td>ok huge temptation riddle review pun go crack ...</td>\n",
       "    </tr>\n",
       "    <tr>\n",
       "      <th>3</th>\n",
       "      <td>56863ac592514132db01c0f5</td>\n",
       "      <td>955</td>\n",
       "      <td>tt0120755</td>\n",
       "      <td>Mission: Impossible II</td>\n",
       "      <td>This is a decent enough mindless action movie ...</td>\n",
       "      <td>NaN</td>\n",
       "      <td>this is a decent enough mindless action movie ...</td>\n",
       "      <td>['this', 'is', 'a', 'decent', 'enough', 'mindl...</td>\n",
       "      <td>['decent', 'enough', 'mindless', 'action', 'mo...</td>\n",
       "      <td>['decent', 'mindless', 'action', 'movie', 'lot...</td>\n",
       "      <td>decent enough mindless action movie lot top ac...</td>\n",
       "      <td>decent mindless action movie lot action missio...</td>\n",
       "    </tr>\n",
       "    <tr>\n",
       "      <th>4</th>\n",
       "      <td>5e9120963679a10018375490</td>\n",
       "      <td>955</td>\n",
       "      <td>tt0120755</td>\n",
       "      <td>Mission: Impossible II</td>\n",
       "      <td>After quite entertainign Mission Impossible I ...</td>\n",
       "      <td>Low</td>\n",
       "      <td>after quite entertainign mission impossible i ...</td>\n",
       "      <td>['after', 'quite', 'entertainign', 'mission', ...</td>\n",
       "      <td>['quite', 'entertainign', 'mission', 'impossib...</td>\n",
       "      <td>['entertainign', 'mission', 'impossible', 'sec...</td>\n",
       "      <td>quite entertainign mission impossible second i...</td>\n",
       "      <td>entertainign mission impossible second install...</td>\n",
       "    </tr>\n",
       "  </tbody>\n",
       "</table>\n",
       "</div>"
      ],
      "text/plain": [
       "                  review_id  movie_id    imdb_id          original_title  \\\n",
       "0  64ecc16e83901800af821d50       843  tt0118694                    花樣年華   \n",
       "1  57086ff5c3a3681d29001512      7443  tt0120630             Chicken Run   \n",
       "2  64ecc027594c9400ffe77c91      7443  tt0120630             Chicken Run   \n",
       "3  56863ac592514132db01c0f5       955  tt0120755  Mission: Impossible II   \n",
       "4  5e9120963679a10018375490       955  tt0120755  Mission: Impossible II   \n",
       "\n",
       "                                              review new_rating  \\\n",
       "0  This is a fine piece of cinema from Wong Kar-W...        NaN   \n",
       "1  A guilty pleasure for me personally, as I love...       High   \n",
       "2  Ok, there is an huge temptation to riddle this...        NaN   \n",
       "3  This is a decent enough mindless action movie ...        NaN   \n",
       "4  After quite entertainign Mission Impossible I ...        Low   \n",
       "\n",
       "                                        lower_review  \\\n",
       "0  this is a fine piece of cinema from wong kar-w...   \n",
       "1  a guilty pleasure for me personally, as i love...   \n",
       "2  ok, there is an huge temptation to riddle this...   \n",
       "3  this is a decent enough mindless action movie ...   \n",
       "4  after quite entertainign mission impossible i ...   \n",
       "\n",
       "                                              tokens  \\\n",
       "0  ['this', 'is', 'a', 'fine', 'piece', 'of', 'ci...   \n",
       "1  ['a', 'guilty', 'pleasure', 'for', 'me', 'pers...   \n",
       "2  ['ok', ',', 'there', 'is', 'an', 'huge', 'temp...   \n",
       "3  ['this', 'is', 'a', 'decent', 'enough', 'mindl...   \n",
       "4  ['after', 'quite', 'entertainign', 'mission', ...   \n",
       "\n",
       "                                        clean_tokens  \\\n",
       "0  ['fine', 'piece', 'cinema', 'wong', 'kar-wai',...   \n",
       "1  ['guilty', 'pleasure', 'personally', 'love', \"...   \n",
       "2  ['ok', 'huge', 'temptation', 'riddle', 'review...   \n",
       "3  ['decent', 'enough', 'mindless', 'action', 'mo...   \n",
       "4  ['quite', 'entertainign', 'mission', 'impossib...   \n",
       "\n",
       "                                        spacy_lemmas  \\\n",
       "0  ['fine', 'piece', 'cinema', 'wong', 'kar', 'wa...   \n",
       "1  ['guilty', 'pleasure', 'personally', 'love', '...   \n",
       "2  ['ok', 'huge', 'temptation', 'riddle', 'review...   \n",
       "3  ['decent', 'mindless', 'action', 'movie', 'lot...   \n",
       "4  ['entertainign', 'mission', 'impossible', 'sec...   \n",
       "\n",
       "                                       tokens_joined  \\\n",
       "0  fine piece cinema wong kar-wai tells us story ...   \n",
       "1  guilty pleasure personally love 'the great esc...   \n",
       "2  ok huge temptation riddle review puns 'm going...   \n",
       "3  decent enough mindless action movie lot top ac...   \n",
       "4  quite entertainign mission impossible second i...   \n",
       "\n",
       "                                       lemmas_joined  \n",
       "0  fine piece cinema wong kar wai tell story peop...  \n",
       "1  guilty pleasure personally love great escape w...  \n",
       "2  ok huge temptation riddle review pun go crack ...  \n",
       "3  decent mindless action movie lot action missio...  \n",
       "4  entertainign mission impossible second install...  "
      ]
     },
     "execution_count": 5,
     "metadata": {},
     "output_type": "execute_result"
    }
   ],
   "source": [
    "fpath = FPATHS['data']['raw']['eda']\n",
    "# Read in as normal\n",
    "df = pd.read_csv(fpath)\n",
    "df.head()"
   ]
  },
  {
   "cell_type": "code",
   "execution_count": 6,
   "id": "7a9a6908-7428-47e3-8fea-91d32d9a2221",
   "metadata": {},
   "outputs": [],
   "source": [
    "df = df.dropna()"
   ]
  },
  {
   "cell_type": "code",
   "execution_count": 7,
   "id": "5e81fae2-6dac-47d0-9c53-b3e55769ac04",
   "metadata": {},
   "outputs": [
    {
     "data": {
      "text/plain": [
       "(1418, 608)"
      ]
     },
     "execution_count": 7,
     "metadata": {},
     "output_type": "execute_result"
    }
   ],
   "source": [
    "from sklearn.model_selection import train_test_split\n",
    "#Splitting data for machine learning\n",
    "\n",
    "X = df['review']\n",
    "y = df['new_rating']\n",
    "\n",
    "X_train_full, X_test, y_train_full, y_test = train_test_split(X, y, test_size=.3, random_state=42)\n",
    "len(X_train_full), len(X_test)"
   ]
  },
  {
   "cell_type": "code",
   "execution_count": 8,
   "id": "ae6c10fe-0859-4fb9-8f6c-3230ab3dd67a",
   "metadata": {},
   "outputs": [
    {
     "data": {
      "text/plain": [
       "array(['High', 'Low'], dtype=object)"
      ]
     },
     "execution_count": 8,
     "metadata": {},
     "output_type": "execute_result"
    }
   ],
   "source": [
    "# Getting unique classes to convert \n",
    "class_names = y.unique()\n",
    "class_names"
   ]
  },
  {
   "cell_type": "code",
   "execution_count": 9,
   "id": "9be7b25a-8677-416e-8400-361e06571fae",
   "metadata": {},
   "outputs": [
    {
     "data": {
      "text/html": [
       "<style>#sk-container-id-1 {color: black;background-color: white;}#sk-container-id-1 pre{padding: 0;}#sk-container-id-1 div.sk-toggleable {background-color: white;}#sk-container-id-1 label.sk-toggleable__label {cursor: pointer;display: block;width: 100%;margin-bottom: 0;padding: 0.3em;box-sizing: border-box;text-align: center;}#sk-container-id-1 label.sk-toggleable__label-arrow:before {content: \"▸\";float: left;margin-right: 0.25em;color: #696969;}#sk-container-id-1 label.sk-toggleable__label-arrow:hover:before {color: black;}#sk-container-id-1 div.sk-estimator:hover label.sk-toggleable__label-arrow:before {color: black;}#sk-container-id-1 div.sk-toggleable__content {max-height: 0;max-width: 0;overflow: hidden;text-align: left;background-color: #f0f8ff;}#sk-container-id-1 div.sk-toggleable__content pre {margin: 0.2em;color: black;border-radius: 0.25em;background-color: #f0f8ff;}#sk-container-id-1 input.sk-toggleable__control:checked~div.sk-toggleable__content {max-height: 200px;max-width: 100%;overflow: auto;}#sk-container-id-1 input.sk-toggleable__control:checked~label.sk-toggleable__label-arrow:before {content: \"▾\";}#sk-container-id-1 div.sk-estimator input.sk-toggleable__control:checked~label.sk-toggleable__label {background-color: #d4ebff;}#sk-container-id-1 div.sk-label input.sk-toggleable__control:checked~label.sk-toggleable__label {background-color: #d4ebff;}#sk-container-id-1 input.sk-hidden--visually {border: 0;clip: rect(1px 1px 1px 1px);clip: rect(1px, 1px, 1px, 1px);height: 1px;margin: -1px;overflow: hidden;padding: 0;position: absolute;width: 1px;}#sk-container-id-1 div.sk-estimator {font-family: monospace;background-color: #f0f8ff;border: 1px dotted black;border-radius: 0.25em;box-sizing: border-box;margin-bottom: 0.5em;}#sk-container-id-1 div.sk-estimator:hover {background-color: #d4ebff;}#sk-container-id-1 div.sk-parallel-item::after {content: \"\";width: 100%;border-bottom: 1px solid gray;flex-grow: 1;}#sk-container-id-1 div.sk-label:hover label.sk-toggleable__label {background-color: #d4ebff;}#sk-container-id-1 div.sk-serial::before {content: \"\";position: absolute;border-left: 1px solid gray;box-sizing: border-box;top: 0;bottom: 0;left: 50%;z-index: 0;}#sk-container-id-1 div.sk-serial {display: flex;flex-direction: column;align-items: center;background-color: white;padding-right: 0.2em;padding-left: 0.2em;position: relative;}#sk-container-id-1 div.sk-item {position: relative;z-index: 1;}#sk-container-id-1 div.sk-parallel {display: flex;align-items: stretch;justify-content: center;background-color: white;position: relative;}#sk-container-id-1 div.sk-item::before, #sk-container-id-1 div.sk-parallel-item::before {content: \"\";position: absolute;border-left: 1px solid gray;box-sizing: border-box;top: 0;bottom: 0;left: 50%;z-index: -1;}#sk-container-id-1 div.sk-parallel-item {display: flex;flex-direction: column;z-index: 1;position: relative;background-color: white;}#sk-container-id-1 div.sk-parallel-item:first-child::after {align-self: flex-end;width: 50%;}#sk-container-id-1 div.sk-parallel-item:last-child::after {align-self: flex-start;width: 50%;}#sk-container-id-1 div.sk-parallel-item:only-child::after {width: 0;}#sk-container-id-1 div.sk-dashed-wrapped {border: 1px dashed gray;margin: 0 0.4em 0.5em 0.4em;box-sizing: border-box;padding-bottom: 0.4em;background-color: white;}#sk-container-id-1 div.sk-label label {font-family: monospace;font-weight: bold;display: inline-block;line-height: 1.2em;}#sk-container-id-1 div.sk-label-container {text-align: center;}#sk-container-id-1 div.sk-container {/* jupyter's `normalize.less` sets `[hidden] { display: none; }` but bootstrap.min.css set `[hidden] { display: none !important; }` so we also need the `!important` here to be able to override the default hidden behavior on the sphinx rendered scikit-learn.org. See: https://github.com/scikit-learn/scikit-learn/issues/21755 */display: inline-block !important;position: relative;}#sk-container-id-1 div.sk-text-repr-fallback {display: none;}</style><div id=\"sk-container-id-1\" class=\"sk-top-container\"><div class=\"sk-text-repr-fallback\"><pre>LabelEncoder()</pre><b>In a Jupyter environment, please rerun this cell to show the HTML representation or trust the notebook. <br />On GitHub, the HTML representation is unable to render, please try loading this page with nbviewer.org.</b></div><div class=\"sk-container\" hidden><div class=\"sk-item\"><div class=\"sk-estimator sk-toggleable\"><input class=\"sk-toggleable__control sk-hidden--visually\" id=\"sk-estimator-id-1\" type=\"checkbox\" checked><label for=\"sk-estimator-id-1\" class=\"sk-toggleable__label sk-toggleable__label-arrow\">LabelEncoder</label><div class=\"sk-toggleable__content\"><pre>LabelEncoder()</pre></div></div></div></div></div>"
      ],
      "text/plain": [
       "LabelEncoder()"
      ]
     },
     "execution_count": 9,
     "metadata": {},
     "output_type": "execute_result"
    }
   ],
   "source": [
    "from sklearn.preprocessing import LabelEncoder\n",
    "# Fit the label encoder on unique class names\n",
    "encoder = LabelEncoder()\n",
    "encoder.fit(class_names)"
   ]
  },
  {
   "cell_type": "code",
   "execution_count": 10,
   "id": "d6a27040-bd7b-4721-941c-09bad03409be",
   "metadata": {},
   "outputs": [
    {
     "data": {
      "text/plain": [
       "array([1, 1, 0, 0, 1, 1, 1, 1, 1, 1])"
      ]
     },
     "execution_count": 10,
     "metadata": {},
     "output_type": "execute_result"
    }
   ],
   "source": [
    "y_train_enc = encoder.transform(y_train_full)\n",
    "y_test_enc = encoder.transform(y_test)\n",
    "y_train_enc[:10]"
   ]
  },
  {
   "cell_type": "code",
   "execution_count": 11,
   "id": "c50a5515-ae93-497a-b602-dc1deb55d3f7",
   "metadata": {},
   "outputs": [
    {
     "data": {
      "text/plain": [
       "array(['High', 'Low'], dtype=object)"
      ]
     },
     "execution_count": 11,
     "metadata": {},
     "output_type": "execute_result"
    }
   ],
   "source": [
    "# Extract the class names from the encoder\n",
    "classes = encoder.classes_\n",
    "classes"
   ]
  },
  {
   "cell_type": "code",
   "execution_count": 12,
   "id": "560805e7-85fc-419d-bebd-30cf1e4980dd",
   "metadata": {},
   "outputs": [
    {
     "data": {
      "text/plain": [
       "array([0, 1])"
      ]
     },
     "execution_count": 12,
     "metadata": {},
     "output_type": "execute_result"
    }
   ],
   "source": [
    "class_codes = encoder.transform(classes)\n",
    "class_codes"
   ]
  },
  {
   "cell_type": "code",
   "execution_count": 13,
   "id": "b8350f86-3fcd-4abf-9326-1b8caaf5516c",
   "metadata": {},
   "outputs": [
    {
     "data": {
      "text/plain": [
       "{0: 'High', 1: 'Low'}"
      ]
     },
     "execution_count": 13,
     "metadata": {},
     "output_type": "execute_result"
    }
   ],
   "source": [
    "# Making lookup dictionary to find the encoded label's original name\n",
    "target_lookup = dict(zip(class_codes,classes ))\n",
    "target_lookup"
   ]
  },
  {
   "cell_type": "code",
   "execution_count": 14,
   "id": "b57bf7d9-799c-445a-a37e-f793f8fd7f99",
   "metadata": {},
   "outputs": [
    {
     "data": {
      "text/plain": [
       "['data/target-lookup-dict.joblib']"
      ]
     },
     "execution_count": 14,
     "metadata": {},
     "output_type": "execute_result"
    }
   ],
   "source": [
    "import joblib\n",
    "fpath_lookup = FPATHS['data']['ml']['target_lookup']\n",
    "\n",
    "joblib.dump(target_lookup,fpath_lookup )"
   ]
  },
  {
   "cell_type": "code",
   "execution_count": 16,
   "id": "b2c26314-2bf2-4ba6-911e-c86859d607f9",
   "metadata": {},
   "outputs": [
    {
     "data": {
      "text/plain": [
       "['data/label-encoder.joblib']"
      ]
     },
     "execution_count": 16,
     "metadata": {},
     "output_type": "execute_result"
    }
   ],
   "source": [
    "fpath_encoder = FPATHS['data']['ml']['label_encoder']\n",
    "\n",
    "joblib.dump(encoder,fpath_encoder)"
   ]
  },
  {
   "cell_type": "code",
   "execution_count": 17,
   "id": "78dfdbca-72e0-4e24-bd7d-7d92c738d772",
   "metadata": {},
   "outputs": [
    {
     "data": {
      "text/plain": [
       "['Data/training-data.joblib']"
      ]
     },
     "execution_count": 17,
     "metadata": {},
     "output_type": "execute_result"
    }
   ],
   "source": [
    "# Defining the filepath for the training data using the dictionary\n",
    "joblib_train_path = FPATHS['data']['ml']['train']\n",
    "\n",
    "joblib.dump([X_train_full, y_train_full], joblib_train_path)"
   ]
  },
  {
   "cell_type": "code",
   "execution_count": 18,
   "id": "4b764d0b-2605-436d-a537-157468cc4396",
   "metadata": {},
   "outputs": [
    {
     "data": {
      "text/plain": [
       "['Data/testing-data.joblib']"
      ]
     },
     "execution_count": 18,
     "metadata": {},
     "output_type": "execute_result"
    }
   ],
   "source": [
    "joblib_test_path = FPATHS['data']['ml']['test']\n",
    "\n",
    "joblib.dump([X_test, y_test], joblib_test_path)"
   ]
  },
  {
   "cell_type": "code",
   "execution_count": 19,
   "id": "f40d043d-7ed4-47f8-9e30-86db3d7afe4a",
   "metadata": {},
   "outputs": [
    {
     "data": {
      "text/html": [
       "<style>#sk-container-id-2 {color: black;background-color: white;}#sk-container-id-2 pre{padding: 0;}#sk-container-id-2 div.sk-toggleable {background-color: white;}#sk-container-id-2 label.sk-toggleable__label {cursor: pointer;display: block;width: 100%;margin-bottom: 0;padding: 0.3em;box-sizing: border-box;text-align: center;}#sk-container-id-2 label.sk-toggleable__label-arrow:before {content: \"▸\";float: left;margin-right: 0.25em;color: #696969;}#sk-container-id-2 label.sk-toggleable__label-arrow:hover:before {color: black;}#sk-container-id-2 div.sk-estimator:hover label.sk-toggleable__label-arrow:before {color: black;}#sk-container-id-2 div.sk-toggleable__content {max-height: 0;max-width: 0;overflow: hidden;text-align: left;background-color: #f0f8ff;}#sk-container-id-2 div.sk-toggleable__content pre {margin: 0.2em;color: black;border-radius: 0.25em;background-color: #f0f8ff;}#sk-container-id-2 input.sk-toggleable__control:checked~div.sk-toggleable__content {max-height: 200px;max-width: 100%;overflow: auto;}#sk-container-id-2 input.sk-toggleable__control:checked~label.sk-toggleable__label-arrow:before {content: \"▾\";}#sk-container-id-2 div.sk-estimator input.sk-toggleable__control:checked~label.sk-toggleable__label {background-color: #d4ebff;}#sk-container-id-2 div.sk-label input.sk-toggleable__control:checked~label.sk-toggleable__label {background-color: #d4ebff;}#sk-container-id-2 input.sk-hidden--visually {border: 0;clip: rect(1px 1px 1px 1px);clip: rect(1px, 1px, 1px, 1px);height: 1px;margin: -1px;overflow: hidden;padding: 0;position: absolute;width: 1px;}#sk-container-id-2 div.sk-estimator {font-family: monospace;background-color: #f0f8ff;border: 1px dotted black;border-radius: 0.25em;box-sizing: border-box;margin-bottom: 0.5em;}#sk-container-id-2 div.sk-estimator:hover {background-color: #d4ebff;}#sk-container-id-2 div.sk-parallel-item::after {content: \"\";width: 100%;border-bottom: 1px solid gray;flex-grow: 1;}#sk-container-id-2 div.sk-label:hover label.sk-toggleable__label {background-color: #d4ebff;}#sk-container-id-2 div.sk-serial::before {content: \"\";position: absolute;border-left: 1px solid gray;box-sizing: border-box;top: 0;bottom: 0;left: 50%;z-index: 0;}#sk-container-id-2 div.sk-serial {display: flex;flex-direction: column;align-items: center;background-color: white;padding-right: 0.2em;padding-left: 0.2em;position: relative;}#sk-container-id-2 div.sk-item {position: relative;z-index: 1;}#sk-container-id-2 div.sk-parallel {display: flex;align-items: stretch;justify-content: center;background-color: white;position: relative;}#sk-container-id-2 div.sk-item::before, #sk-container-id-2 div.sk-parallel-item::before {content: \"\";position: absolute;border-left: 1px solid gray;box-sizing: border-box;top: 0;bottom: 0;left: 50%;z-index: -1;}#sk-container-id-2 div.sk-parallel-item {display: flex;flex-direction: column;z-index: 1;position: relative;background-color: white;}#sk-container-id-2 div.sk-parallel-item:first-child::after {align-self: flex-end;width: 50%;}#sk-container-id-2 div.sk-parallel-item:last-child::after {align-self: flex-start;width: 50%;}#sk-container-id-2 div.sk-parallel-item:only-child::after {width: 0;}#sk-container-id-2 div.sk-dashed-wrapped {border: 1px dashed gray;margin: 0 0.4em 0.5em 0.4em;box-sizing: border-box;padding-bottom: 0.4em;background-color: white;}#sk-container-id-2 div.sk-label label {font-family: monospace;font-weight: bold;display: inline-block;line-height: 1.2em;}#sk-container-id-2 div.sk-label-container {text-align: center;}#sk-container-id-2 div.sk-container {/* jupyter's `normalize.less` sets `[hidden] { display: none; }` but bootstrap.min.css set `[hidden] { display: none !important; }` so we also need the `!important` here to be able to override the default hidden behavior on the sphinx rendered scikit-learn.org. See: https://github.com/scikit-learn/scikit-learn/issues/21755 */display: inline-block !important;position: relative;}#sk-container-id-2 div.sk-text-repr-fallback {display: none;}</style><div id=\"sk-container-id-2\" class=\"sk-top-container\"><div class=\"sk-text-repr-fallback\"><pre>Pipeline(steps=[(&#x27;vectorizer&#x27;, CountVectorizer()), (&#x27;clf&#x27;, MultinomialNB())])</pre><b>In a Jupyter environment, please rerun this cell to show the HTML representation or trust the notebook. <br />On GitHub, the HTML representation is unable to render, please try loading this page with nbviewer.org.</b></div><div class=\"sk-container\" hidden><div class=\"sk-item sk-dashed-wrapped\"><div class=\"sk-label-container\"><div class=\"sk-label sk-toggleable\"><input class=\"sk-toggleable__control sk-hidden--visually\" id=\"sk-estimator-id-2\" type=\"checkbox\" ><label for=\"sk-estimator-id-2\" class=\"sk-toggleable__label sk-toggleable__label-arrow\">Pipeline</label><div class=\"sk-toggleable__content\"><pre>Pipeline(steps=[(&#x27;vectorizer&#x27;, CountVectorizer()), (&#x27;clf&#x27;, MultinomialNB())])</pre></div></div></div><div class=\"sk-serial\"><div class=\"sk-item\"><div class=\"sk-estimator sk-toggleable\"><input class=\"sk-toggleable__control sk-hidden--visually\" id=\"sk-estimator-id-3\" type=\"checkbox\" ><label for=\"sk-estimator-id-3\" class=\"sk-toggleable__label sk-toggleable__label-arrow\">CountVectorizer</label><div class=\"sk-toggleable__content\"><pre>CountVectorizer()</pre></div></div></div><div class=\"sk-item\"><div class=\"sk-estimator sk-toggleable\"><input class=\"sk-toggleable__control sk-hidden--visually\" id=\"sk-estimator-id-4\" type=\"checkbox\" ><label for=\"sk-estimator-id-4\" class=\"sk-toggleable__label sk-toggleable__label-arrow\">MultinomialNB</label><div class=\"sk-toggleable__content\"><pre>MultinomialNB()</pre></div></div></div></div></div></div></div>"
      ],
      "text/plain": [
       "Pipeline(steps=[('vectorizer', CountVectorizer()), ('clf', MultinomialNB())])"
      ]
     },
     "execution_count": 19,
     "metadata": {},
     "output_type": "execute_result"
    }
   ],
   "source": [
    "from sklearn.feature_extraction.text import CountVectorizer, TfidfVectorizer\n",
    "from sklearn.pipeline import Pipeline\n",
    "from sklearn.naive_bayes import MultinomialNB\n",
    "from sklearn.model_selection import GridSearchCV\n",
    "\n",
    "count_vectorizer = CountVectorizer()\n",
    "nbayes = MultinomialNB()\n",
    "\n",
    "count_pipe = Pipeline([('vectorizer', count_vectorizer), \n",
    "                       ('clf', nbayes)])\n",
    "\n",
    "count_pipe.fit(X_train_full, y_train_full)"
   ]
  },
  {
   "cell_type": "code",
   "execution_count": 20,
   "id": "66abab2e-38c5-436d-94b7-14ba154a9de0",
   "metadata": {},
   "outputs": [
    {
     "name": "stdout",
     "output_type": "stream",
     "text": [
      "----------------------------------------------------------------------\n",
      " Classification Metrics: Training Data\n",
      "----------------------------------------------------------------------\n",
      "              precision    recall  f1-score   support\n",
      "\n",
      "        High       0.99      0.97      0.98       720\n",
      "         Low       0.97      0.99      0.98       698\n",
      "\n",
      "    accuracy                           0.98      1418\n",
      "   macro avg       0.98      0.98      0.98      1418\n",
      "weighted avg       0.98      0.98      0.98      1418\n",
      "\n"
     ]
    },
    {
     "data": {
      "image/png": "[encoded data removed]",
      "text/plain": [
       "<Figure size 600x400 with 2 Axes>"
      ]
     },
     "metadata": {},
     "output_type": "display_data"
    },
    {
     "name": "stdout",
     "output_type": "stream",
     "text": [
      "\n",
      "----------------------------------------------------------------------\n",
      " Classification Metrics: Test Data\n",
      "----------------------------------------------------------------------\n",
      "              precision    recall  f1-score   support\n",
      "\n",
      "        High       0.89      0.84      0.87       316\n",
      "         Low       0.84      0.89      0.86       292\n",
      "\n",
      "    accuracy                           0.87       608\n",
      "   macro avg       0.87      0.87      0.87       608\n",
      "weighted avg       0.87      0.87      0.87       608\n",
      "\n"
     ]
    },
    {
     "data": {
      "image/png": "[encoded data removed]",
      "text/plain": [
       "<Figure size 600x400 with 2 Axes>"
      ]
     },
     "metadata": {},
     "output_type": "display_data"
    }
   ],
   "source": [
    "import custom_functions as fn\n",
    "fn.evaluate_classification(count_pipe, X_train_full, y_train_full, X_test, y_test)"
   ]
  },
  {
   "cell_type": "code",
   "execution_count": 21,
   "id": "03207e0d-f211-4f5a-8c12-383073258bfb",
   "metadata": {},
   "outputs": [
    {
     "data": {
      "text/plain": [
       "['Models/multinomialnb/nbayes.joblib']"
      ]
     },
     "execution_count": 21,
     "metadata": {},
     "output_type": "execute_result"
    }
   ],
   "source": [
    "nbayes_path = FPATHS['models']['nbayes']\n",
    "joblib.dump(count_pipe, nbayes_path)"
   ]
  },
  {
   "cell_type": "code",
   "execution_count": null,
   "id": "0e1b397a-c558-4bd0-aa3d-cc27e21970c7",
   "metadata": {},
   "outputs": [],
   "source": []
  },
  {
   "cell_type": "code",
   "execution_count": null,
   "id": "178a9611-35ce-4e81-b7a7-434bd6c86fd0",
   "metadata": {},
   "outputs": [],
   "source": []
  }
 ],
 "metadata": {
  "kernelspec": {
   "display_name": "Python (dojo-env)",
   "language": "python",
   "name": "dojo-env"
  },
  "language_info": {
   "codemirror_mode": {
    "name": "ipython",
    "version": 3
   },
   "file_extension": ".py",
   "mimetype": "text/x-python",
   "name": "python",
   "nbconvert_exporter": "python",
   "pygments_lexer": "ipython3",
   "version": "3.10.10"
  }
 },
 "nbformat": 4,
 "nbformat_minor": 5
}

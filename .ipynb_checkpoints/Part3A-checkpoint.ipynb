{
 "cells": [
  {
   "cell_type": "code",
   "execution_count": 1,
   "id": "45033419-4f5d-49f0-8836-08f37f63af60",
   "metadata": {},
   "outputs": [
    {
     "data": {
      "text/plain": [
       "['.ipynb_checkpoints',\n",
       " 'movies-ERD.png',\n",
       " 'title-akas-us-only.csv',\n",
       " 'title.basics.csv',\n",
       " 'title.ratings.csv',\n",
       " 'tmdb_api_results_2001.json',\n",
       " 'tmdb_api_results_2002.json',\n",
       " 'tmdb_data_2001.csv.gz',\n",
       " 'tmdb_data_2002.csv.gz']"
      ]
     },
     "execution_count": 1,
     "metadata": {},
     "output_type": "execute_result"
    }
   ],
   "source": [
    "import pandas as pd \n",
    "import os, time, json\n",
    "from tqdm.notebook import tqdm_notebook\n",
    "FOLDER = \"Data/\"\n",
    "os.makedirs(FOLDER, exist_ok=True)\n",
    "os.listdir(FOLDER)"
   ]
  },
  {
   "cell_type": "code",
   "execution_count": 2,
   "id": "a01e3a75-316b-4962-a7de-74d782b1d5d2",
   "metadata": {},
   "outputs": [],
   "source": [
    "def write_json(new_data, filename): \n",
    "    \"\"\"Appends a list of records (new_data) to a json file (filename). \n",
    "    Adapted from: https://www.geeksforgeeks.org/append-to-json-file-using-python/\"\"\"  \n",
    "    \n",
    "    with open(filename,'r+') as file:\n",
    "        # First we load existing data into a dict.\n",
    "        file_data = json.load(file)\n",
    "        ## Choose extend or append\n",
    "        if (type(new_data) == list) & (type(file_data) == list):\n",
    "            file_data.extend(new_data)\n",
    "        else:\n",
    "             file_data.append(new_data)\n",
    "        # Sets file's current position at offset.\n",
    "        file.seek(0)\n",
    "        # convert back to json.\n",
    "        json.dump(file_data, file)\n"
   ]
  },
  {
   "cell_type": "code",
   "execution_count": 3,
   "id": "92f2f7e2-e105-4123-bb5e-435efc66db4a",
   "metadata": {},
   "outputs": [
    {
     "name": "stdout",
     "output_type": "stream",
     "text": [
      "<class 'pandas.core.frame.DataFrame'>\n",
      "RangeIndex: 86979 entries, 0 to 86978\n",
      "Data columns (total 10 columns):\n",
      " #   Column          Non-Null Count  Dtype  \n",
      "---  ------          --------------  -----  \n",
      " 0   Unnamed: 0      86979 non-null  int64  \n",
      " 1   tconst          86979 non-null  object \n",
      " 2   titleType       86979 non-null  object \n",
      " 3   primaryTitle    86979 non-null  object \n",
      " 4   originalTitle   86979 non-null  object \n",
      " 5   isAdult         86979 non-null  int64  \n",
      " 6   startYear       86979 non-null  float64\n",
      " 7   endYear         0 non-null      float64\n",
      " 8   runtimeMinutes  86979 non-null  int64  \n",
      " 9   genres          86979 non-null  object \n",
      "dtypes: float64(2), int64(3), object(5)\n",
      "memory usage: 6.6+ MB\n"
     ]
    },
    {
     "data": {
      "text/html": [
       "<div>\n",
       "<style scoped>\n",
       "    .dataframe tbody tr th:only-of-type {\n",
       "        vertical-align: middle;\n",
       "    }\n",
       "\n",
       "    .dataframe tbody tr th {\n",
       "        vertical-align: top;\n",
       "    }\n",
       "\n",
       "    .dataframe thead th {\n",
       "        text-align: right;\n",
       "    }\n",
       "</style>\n",
       "<table border=\"1\" class=\"dataframe\">\n",
       "  <thead>\n",
       "    <tr style=\"text-align: right;\">\n",
       "      <th></th>\n",
       "      <th>Unnamed: 0</th>\n",
       "      <th>tconst</th>\n",
       "      <th>titleType</th>\n",
       "      <th>primaryTitle</th>\n",
       "      <th>originalTitle</th>\n",
       "      <th>isAdult</th>\n",
       "      <th>startYear</th>\n",
       "      <th>endYear</th>\n",
       "      <th>runtimeMinutes</th>\n",
       "      <th>genres</th>\n",
       "    </tr>\n",
       "  </thead>\n",
       "  <tbody>\n",
       "    <tr>\n",
       "      <th>0</th>\n",
       "      <td>34802</td>\n",
       "      <td>tt0035423</td>\n",
       "      <td>movie</td>\n",
       "      <td>Kate &amp; Leopold</td>\n",
       "      <td>Kate &amp; Leopold</td>\n",
       "      <td>0</td>\n",
       "      <td>2001.0</td>\n",
       "      <td>NaN</td>\n",
       "      <td>118</td>\n",
       "      <td>Comedy,Fantasy,Romance</td>\n",
       "    </tr>\n",
       "    <tr>\n",
       "      <th>1</th>\n",
       "      <td>61114</td>\n",
       "      <td>tt0062336</td>\n",
       "      <td>movie</td>\n",
       "      <td>The Tango of the Widower and Its Distorting Mi...</td>\n",
       "      <td>El tango del viudo y su espejo deformante</td>\n",
       "      <td>0</td>\n",
       "      <td>2020.0</td>\n",
       "      <td>NaN</td>\n",
       "      <td>70</td>\n",
       "      <td>Drama</td>\n",
       "    </tr>\n",
       "  </tbody>\n",
       "</table>\n",
       "</div>"
      ],
      "text/plain": [
       "   Unnamed: 0     tconst titleType  \\\n",
       "0       34802  tt0035423     movie   \n",
       "1       61114  tt0062336     movie   \n",
       "\n",
       "                                        primaryTitle  \\\n",
       "0                                     Kate & Leopold   \n",
       "1  The Tango of the Widower and Its Distorting Mi...   \n",
       "\n",
       "                               originalTitle  isAdult  startYear  endYear  \\\n",
       "0                             Kate & Leopold        0     2001.0      NaN   \n",
       "1  El tango del viudo y su espejo deformante        0     2020.0      NaN   \n",
       "\n",
       "   runtimeMinutes                  genres  \n",
       "0             118  Comedy,Fantasy,Romance  \n",
       "1              70                   Drama  "
      ]
     },
     "execution_count": 3,
     "metadata": {},
     "output_type": "execute_result"
    }
   ],
   "source": [
    "basics = pd.read_csv('Data/title.basics.csv')\n",
    "basics.info()\n",
    "basics.head(2)"
   ]
  },
  {
   "cell_type": "code",
   "execution_count": 4,
   "id": "f0abfd53-9d98-4e34-8ed5-7b379d7274ca",
   "metadata": {},
   "outputs": [],
   "source": [
    "YEARS_TO_GET = [2001,2002]\n",
    "errors = []"
   ]
  },
  {
   "cell_type": "code",
   "execution_count": 6,
   "id": "c77bffa2-8d0f-4cf2-aa77-b73b9bbf4647",
   "metadata": {},
   "outputs": [],
   "source": [
    "JSON_FILE = f'{FOLDER}tmdb_api_results_{YEARS_TO_GET}.json'\n",
    "file_exists = os.path.isfile(JSON_FILE)"
   ]
  },
  {
   "cell_type": "code",
   "execution_count": 8,
   "id": "fa5999eb-3da4-447b-b4a7-c6fef7e6c9cd",
   "metadata": {},
   "outputs": [
    {
     "name": "stdout",
     "output_type": "stream",
     "text": [
      "Creating Data/tmdb_api_results_[2001, 2002].json for API results for [2001, 2002].\n"
     ]
    }
   ],
   "source": [
    "# If it does not exist: create it\n",
    "if file_exists == False:\n",
    "    # Print a message indicating the file is being created \n",
    "    print(f\"Creating {JSON_FILE} for API results for {YEARS_TO_GET}.\")\n",
    "    # save an empty dict with just \"imdb_id\" to the new json file.\n",
    "    with open(JSON_FILE,'w') as f:\n",
    "        json.dump([{'imdb_id':0}],f)\n",
    "        "
   ]
  },
  {
   "cell_type": "markdown",
   "id": "84ddf0fe-6f87-4ece-827b-b34d3350cc42",
   "metadata": {},
   "source": [
    "# df = basics.loc[ basics['startYear'] == YEARS_TO_GET].copy()\n",
    "\n",
    "movie_ids = df['tconst']\n",
    "\n",
    "previous_df = pd.read_json(JSON_FILE)\n",
    "\n",
    "movie_ids_to_get = movie_ids[~movie_ids.isin(previous_df['imdb_id'])]"
   ]
  },
  {
   "cell_type": "code",
   "execution_count": null,
   "id": "529374f5-33be-4282-bcae-208dac46fb00",
   "metadata": {},
   "outputs": [],
   "source": [
    "for YEAR in tqdm_notebook(YEARS_TO_GET, f\"Movies from {YEAR}\"):\n",
    "    try:\n",
    "        temp = get_movie_with_rating(YEAR)\n",
    "        write_json(temp, JSON_FILE)\n",
    "        time.sleep(0.02)\n",
    "    except Exception as e:\n",
    "        errors.append([YEAR, e])\n",
    "        print(f\"- Total errors: {len(errors)}\")"
   ]
  },
  {
   "cell_type": "code",
   "execution_count": null,
   "id": "1b1f1768-b9f3-44dd-a883-90676eb9af4d",
   "metadata": {},
   "outputs": [],
   "source": [
    "df_2000 = pd.read_json(JSON_FILE)\n",
    "df_2000.to_csv(f\"{FOLDER}tmdb_data_{YEAR}.csv.gz\", compression=\"gzip\", index=False)"
   ]
  },
  {
   "cell_type": "code",
   "execution_count": null,
   "id": "7516ad35-ecea-43b8-94e4-86d89b419771",
   "metadata": {},
   "outputs": [],
   "source": [
    "df_2001 = pd.read_json(JSON_FILE)\n",
    "df_2001.to_csv(f\"{FOLDER}tmdb_data_{YEAR}.csv.gz\", compression=\"gzip\", index=False)"
   ]
  },
  {
   "cell_type": "code",
   "execution_count": null,
   "id": "6d05d5fc-fa96-4816-89b4-2f8326a787f6",
   "metadata": {},
   "outputs": [],
   "source": [
    "df_2002 = pd.read_json(JSON_FILE)\n",
    "df_2002.to_csv(f\"{FOLDER}tmdb_data_{YEAR}.csv.gz\", compression=\"gzip\", index=False)"
   ]
  },
  {
   "cell_type": "code",
   "execution_count": null,
   "id": "5849d16f-6ce3-4838-b6f7-b2bb3580d19a",
   "metadata": {},
   "outputs": [],
   "source": [
    "import glob\n",
    "# Use glob to get all filepaths that match the pattern (*=wildcard)\n",
    "tmdb_files = sorted(glob.glob(\"Data/tmdb_data*.csv.gz\"))\n",
    "tmdb_files\n"
   ]
  },
  {
   "cell_type": "code",
   "execution_count": null,
   "id": "6706bffa-6db3-4f66-a932-c5db8cde79f0",
   "metadata": {},
   "outputs": [],
   "source": []
  }
 ],
 "metadata": {
  "kernelspec": {
   "display_name": "Python 3 (ipykernel)",
   "language": "python",
   "name": "python3"
  },
  "language_info": {
   "codemirror_mode": {
    "name": "ipython",
    "version": 3
   },
   "file_extension": ".py",
   "mimetype": "text/x-python",
   "name": "python",
   "nbconvert_exporter": "python",
   "pygments_lexer": "ipython3",
   "version": "3.10.10"
  }
 },
 "nbformat": 4,
 "nbformat_minor": 5
}

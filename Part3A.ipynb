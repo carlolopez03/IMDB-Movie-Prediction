{
 "cells": [
  {
   "cell_type": "code",
   "execution_count": 1,
   "id": "207d69c3-93a2-4428-91be-93b8c98c10c9",
   "metadata": {},
   "outputs": [
    {
     "data": {
      "text/plain": [
       "dict_keys(['api-key'])"
      ]
     },
     "execution_count": 1,
     "metadata": {},
     "output_type": "execute_result"
    }
   ],
   "source": [
    "import pandas as pd \n",
    "import os, time, json\n",
    "from tqdm.notebook import tqdm_notebook\n",
    "with open('/Users/carlo/.secret/tmdb_api.json', 'r') as f:\n",
    "    login = json.load(f)\n",
    "login.keys()"
   ]
  },
  {
   "cell_type": "code",
   "execution_count": 2,
   "id": "ddfca064-cca5-41f4-8b5a-b95280aac9f8",
   "metadata": {},
   "outputs": [],
   "source": [
    "import tmdbsimple as tmdb\n",
    "tmdb.API_KEY = login['api-key']"
   ]
  },
  {
   "cell_type": "code",
   "execution_count": 3,
   "id": "7c7a95fb-9be2-4edc-a923-e166828577b9",
   "metadata": {},
   "outputs": [],
   "source": [
    "movie = tmdb.Movies(603)"
   ]
  },
  {
   "cell_type": "code",
   "execution_count": 4,
   "id": "882fea46-a268-49cc-b7bb-fed8b4e125e1",
   "metadata": {},
   "outputs": [
    {
     "data": {
      "text/plain": [
       "{'adult': False,\n",
       " 'backdrop_path': '/ncEsesgOJDNrTUED89hYbA117wo.jpg',\n",
       " 'belongs_to_collection': {'id': 2344,\n",
       "  'name': 'The Matrix Collection',\n",
       "  'poster_path': '/bV9qTVHTVf0gkW0j7p7M0ILD4pG.jpg',\n",
       "  'backdrop_path': '/bRm2DEgUiYciDw3myHuYFInD7la.jpg'},\n",
       " 'budget': 63000000,\n",
       " 'genres': [{'id': 28, 'name': 'Action'},\n",
       "  {'id': 878, 'name': 'Science Fiction'}],\n",
       " 'homepage': 'http://www.warnerbros.com/matrix',\n",
       " 'id': 603,\n",
       " 'imdb_id': 'tt0133093',\n",
       " 'original_language': 'en',\n",
       " 'original_title': 'The Matrix',\n",
       " 'overview': 'Set in the 22nd century, The Matrix tells the story of a computer hacker who joins a group of underground insurgents fighting the vast and powerful computers who now rule the earth.',\n",
       " 'popularity': 87.704,\n",
       " 'poster_path': '/f89U3ADr1oiB1s9GkdPOEpXUk5H.jpg',\n",
       " 'production_companies': [{'id': 79,\n",
       "   'logo_path': '/at4uYdwAAgNRKhZuuFX8ShKSybw.png',\n",
       "   'name': 'Village Roadshow Pictures',\n",
       "   'origin_country': 'US'},\n",
       "  {'id': 372,\n",
       "   'logo_path': None,\n",
       "   'name': 'Groucho II Film Partnership',\n",
       "   'origin_country': ''},\n",
       "  {'id': 1885,\n",
       "   'logo_path': '/xlvoOZr4s1PygosrwZyolIFe5xs.png',\n",
       "   'name': 'Silver Pictures',\n",
       "   'origin_country': 'US'},\n",
       "  {'id': 174,\n",
       "   'logo_path': '/zhD3hhtKB5qyv7ZeL4uLpNxgMVU.png',\n",
       "   'name': 'Warner Bros. Pictures',\n",
       "   'origin_country': 'US'}],\n",
       " 'production_countries': [{'iso_3166_1': 'US',\n",
       "   'name': 'United States of America'}],\n",
       " 'release_date': '1999-03-30',\n",
       " 'revenue': 463517383,\n",
       " 'runtime': 136,\n",
       " 'spoken_languages': [{'english_name': 'English',\n",
       "   'iso_639_1': 'en',\n",
       "   'name': 'English'}],\n",
       " 'status': 'Released',\n",
       " 'tagline': 'The fight for the future begins.',\n",
       " 'title': 'The Matrix',\n",
       " 'video': False,\n",
       " 'vote_average': 8.211,\n",
       " 'vote_count': 24346}"
      ]
     },
     "execution_count": 4,
     "metadata": {},
     "output_type": "execute_result"
    }
   ],
   "source": [
    "info = movie.info()\n",
    "info"
   ]
  },
  {
   "cell_type": "code",
   "execution_count": 5,
   "id": "68b82684-8ed0-430b-af18-9082a3670978",
   "metadata": {},
   "outputs": [
    {
     "data": {
      "text/plain": [
       "63000000"
      ]
     },
     "execution_count": 5,
     "metadata": {},
     "output_type": "execute_result"
    }
   ],
   "source": [
    "info['budget']"
   ]
  },
  {
   "cell_type": "code",
   "execution_count": 6,
   "id": "7fa0d6da-07bb-4d31-8a16-ee2bdee6bf67",
   "metadata": {},
   "outputs": [
    {
     "data": {
      "text/plain": [
       "463517383"
      ]
     },
     "execution_count": 6,
     "metadata": {},
     "output_type": "execute_result"
    }
   ],
   "source": [
    "info['revenue']"
   ]
  },
  {
   "cell_type": "code",
   "execution_count": 7,
   "id": "2d4efc7f-f64d-4664-98d8-997b5c664e30",
   "metadata": {},
   "outputs": [
    {
     "data": {
      "text/plain": [
       "'tt0133093'"
      ]
     },
     "execution_count": 7,
     "metadata": {},
     "output_type": "execute_result"
    }
   ],
   "source": [
    "info['imdb_id']"
   ]
  },
  {
   "cell_type": "code",
   "execution_count": 8,
   "id": "f38c529e-83aa-4438-8e12-d5d53d8d6dcd",
   "metadata": {},
   "outputs": [
    {
     "data": {
      "text/plain": [
       "50000000"
      ]
     },
     "execution_count": 8,
     "metadata": {},
     "output_type": "execute_result"
    }
   ],
   "source": [
    "movie = tmdb.Movies('tt1361336')\n",
    "info = movie.info()\n",
    "info['budget']"
   ]
  },
  {
   "cell_type": "code",
   "execution_count": 9,
   "id": "a4116c80-608a-4da0-90cd-9204415c198b",
   "metadata": {},
   "outputs": [
    {
     "name": "stdout",
     "output_type": "stream",
     "text": [
      "PG\n",
      "PG\n",
      "PG\n"
     ]
    }
   ],
   "source": [
    "releases = movie.releases()\n",
    "for c in releases['countries']:\n",
    "    if c['iso_3166_1'] == 'US':\n",
    "        print(c['certification'])"
   ]
  },
  {
   "cell_type": "code",
   "execution_count": 10,
   "id": "abd70e99-6c9c-4eb9-abcd-b08cfd17ef58",
   "metadata": {},
   "outputs": [],
   "source": [
    "def get_movie_with_rating(movie_id):\n",
    "    \"\"\"Adapted from source = https://github.com/celiao/tmdbsimple\"\"\"\n",
    "    movie = tmdb.Movies('tt1361336')\n",
    "    info = movie.info()\n",
    "    releases = movie.releases()\n",
    "    for c in releases['countries']:\n",
    "        if c['iso_3166_1'] == 'US':\n",
    "            info['certification'] = c['certification']\n",
    "    return info"
   ]
  },
  {
   "cell_type": "code",
   "execution_count": 11,
   "id": "56bedc4b-9c5a-46e8-8bfa-d348def3d6a3",
   "metadata": {},
   "outputs": [
    {
     "data": {
      "text/plain": [
       "{'adult': False,\n",
       " 'backdrop_path': '/9ns9463dwOeo1CK1JU2wirL5Yi1.jpg',\n",
       " 'belongs_to_collection': None,\n",
       " 'budget': 50000000,\n",
       " 'genres': [{'id': 35, 'name': 'Comedy'},\n",
       "  {'id': 10751, 'name': 'Family'},\n",
       "  {'id': 16, 'name': 'Animation'}],\n",
       " 'homepage': 'https://www.tomandjerrymovie.com',\n",
       " 'id': 587807,\n",
       " 'imdb_id': 'tt1361336',\n",
       " 'original_language': 'en',\n",
       " 'original_title': 'Tom & Jerry',\n",
       " 'overview': 'Tom the cat and Jerry the mouse get kicked out of their home and relocate to a fancy New York hotel, where a scrappy employee named Kayla will lose her job if she can’t evict Jerry before a high-class wedding at the hotel. Her solution? Hiring Tom to get rid of the pesky mouse.',\n",
       " 'popularity': 60.703,\n",
       " 'poster_path': '/8XZI9QZ7Pm3fVkigWJPbrXCMzjq.jpg',\n",
       " 'production_companies': [{'id': 25120,\n",
       "   'logo_path': '/jCeWaKOUeQICItDLupWDfOQDiYO.png',\n",
       "   'name': 'Warner Bros. Pictures Animation',\n",
       "   'origin_country': 'US'},\n",
       "  {'id': 8922,\n",
       "   'logo_path': '/yZWehAyjfKi4KvKeg1bkJ1bm5H8.png',\n",
       "   'name': 'Turner Entertainment',\n",
       "   'origin_country': 'US'},\n",
       "  {'id': 77061,\n",
       "   'logo_path': None,\n",
       "   'name': 'The Story Company',\n",
       "   'origin_country': 'US'},\n",
       "  {'id': 174,\n",
       "   'logo_path': '/2Jeytq7R4CBLGsHKtRGIjMtpiuv.png',\n",
       "   'name': 'Warner Bros. Pictures',\n",
       "   'origin_country': 'US'}],\n",
       " 'production_countries': [{'iso_3166_1': 'US',\n",
       "   'name': 'United States of America'}],\n",
       " 'release_date': '2021-02-10',\n",
       " 'revenue': 136536687,\n",
       " 'runtime': 101,\n",
       " 'spoken_languages': [{'english_name': 'English',\n",
       "   'iso_639_1': 'en',\n",
       "   'name': 'English'}],\n",
       " 'status': 'Released',\n",
       " 'tagline': 'Best of enemies. Worst of friends.',\n",
       " 'title': 'Tom & Jerry',\n",
       " 'video': False,\n",
       " 'vote_average': 6.823,\n",
       " 'vote_count': 2340,\n",
       " 'certification': 'PG'}"
      ]
     },
     "execution_count": 11,
     "metadata": {},
     "output_type": "execute_result"
    }
   ],
   "source": [
    "test = get_movie_with_rating('tt0848228')\n",
    "test"
   ]
  },
  {
   "cell_type": "code",
   "execution_count": 12,
   "id": "588d3925-6f43-4cb7-9fd0-bbe0fd38c6df",
   "metadata": {},
   "outputs": [
    {
     "data": {
      "text/html": [
       "<div>\n",
       "<style scoped>\n",
       "    .dataframe tbody tr th:only-of-type {\n",
       "        vertical-align: middle;\n",
       "    }\n",
       "\n",
       "    .dataframe tbody tr th {\n",
       "        vertical-align: top;\n",
       "    }\n",
       "\n",
       "    .dataframe thead th {\n",
       "        text-align: right;\n",
       "    }\n",
       "</style>\n",
       "<table border=\"1\" class=\"dataframe\">\n",
       "  <thead>\n",
       "    <tr style=\"text-align: right;\">\n",
       "      <th></th>\n",
       "      <th>adult</th>\n",
       "      <th>backdrop_path</th>\n",
       "      <th>belongs_to_collection</th>\n",
       "      <th>budget</th>\n",
       "      <th>genres</th>\n",
       "      <th>homepage</th>\n",
       "      <th>id</th>\n",
       "      <th>imdb_id</th>\n",
       "      <th>original_language</th>\n",
       "      <th>original_title</th>\n",
       "      <th>...</th>\n",
       "      <th>revenue</th>\n",
       "      <th>runtime</th>\n",
       "      <th>spoken_languages</th>\n",
       "      <th>status</th>\n",
       "      <th>tagline</th>\n",
       "      <th>title</th>\n",
       "      <th>video</th>\n",
       "      <th>vote_average</th>\n",
       "      <th>vote_count</th>\n",
       "      <th>certification</th>\n",
       "    </tr>\n",
       "  </thead>\n",
       "  <tbody>\n",
       "    <tr>\n",
       "      <th>0</th>\n",
       "      <td>False</td>\n",
       "      <td>/9ns9463dwOeo1CK1JU2wirL5Yi1.jpg</td>\n",
       "      <td>None</td>\n",
       "      <td>50000000</td>\n",
       "      <td>[{'id': 35, 'name': 'Comedy'}, {'id': 10751, '...</td>\n",
       "      <td>https://www.tomandjerrymovie.com</td>\n",
       "      <td>587807</td>\n",
       "      <td>tt1361336</td>\n",
       "      <td>en</td>\n",
       "      <td>Tom &amp; Jerry</td>\n",
       "      <td>...</td>\n",
       "      <td>136536687</td>\n",
       "      <td>101</td>\n",
       "      <td>[{'english_name': 'English', 'iso_639_1': 'en'...</td>\n",
       "      <td>Released</td>\n",
       "      <td>Best of enemies. Worst of friends.</td>\n",
       "      <td>Tom &amp; Jerry</td>\n",
       "      <td>False</td>\n",
       "      <td>6.823</td>\n",
       "      <td>2340</td>\n",
       "      <td>PG</td>\n",
       "    </tr>\n",
       "    <tr>\n",
       "      <th>1</th>\n",
       "      <td>False</td>\n",
       "      <td>/9ns9463dwOeo1CK1JU2wirL5Yi1.jpg</td>\n",
       "      <td>None</td>\n",
       "      <td>50000000</td>\n",
       "      <td>[{'id': 35, 'name': 'Comedy'}, {'id': 10751, '...</td>\n",
       "      <td>https://www.tomandjerrymovie.com</td>\n",
       "      <td>587807</td>\n",
       "      <td>tt1361336</td>\n",
       "      <td>en</td>\n",
       "      <td>Tom &amp; Jerry</td>\n",
       "      <td>...</td>\n",
       "      <td>136536687</td>\n",
       "      <td>101</td>\n",
       "      <td>[{'english_name': 'English', 'iso_639_1': 'en'...</td>\n",
       "      <td>Released</td>\n",
       "      <td>Best of enemies. Worst of friends.</td>\n",
       "      <td>Tom &amp; Jerry</td>\n",
       "      <td>False</td>\n",
       "      <td>6.823</td>\n",
       "      <td>2340</td>\n",
       "      <td>PG</td>\n",
       "    </tr>\n",
       "    <tr>\n",
       "      <th>2</th>\n",
       "      <td>False</td>\n",
       "      <td>/9ns9463dwOeo1CK1JU2wirL5Yi1.jpg</td>\n",
       "      <td>None</td>\n",
       "      <td>50000000</td>\n",
       "      <td>[{'id': 35, 'name': 'Comedy'}, {'id': 10751, '...</td>\n",
       "      <td>https://www.tomandjerrymovie.com</td>\n",
       "      <td>587807</td>\n",
       "      <td>tt1361336</td>\n",
       "      <td>en</td>\n",
       "      <td>Tom &amp; Jerry</td>\n",
       "      <td>...</td>\n",
       "      <td>136536687</td>\n",
       "      <td>101</td>\n",
       "      <td>[{'english_name': 'English', 'iso_639_1': 'en'...</td>\n",
       "      <td>Released</td>\n",
       "      <td>Best of enemies. Worst of friends.</td>\n",
       "      <td>Tom &amp; Jerry</td>\n",
       "      <td>False</td>\n",
       "      <td>6.823</td>\n",
       "      <td>2340</td>\n",
       "      <td>PG</td>\n",
       "    </tr>\n",
       "    <tr>\n",
       "      <th>3</th>\n",
       "      <td>False</td>\n",
       "      <td>/9ns9463dwOeo1CK1JU2wirL5Yi1.jpg</td>\n",
       "      <td>None</td>\n",
       "      <td>50000000</td>\n",
       "      <td>[{'id': 35, 'name': 'Comedy'}, {'id': 10751, '...</td>\n",
       "      <td>https://www.tomandjerrymovie.com</td>\n",
       "      <td>587807</td>\n",
       "      <td>tt1361336</td>\n",
       "      <td>en</td>\n",
       "      <td>Tom &amp; Jerry</td>\n",
       "      <td>...</td>\n",
       "      <td>136536687</td>\n",
       "      <td>101</td>\n",
       "      <td>[{'english_name': 'English', 'iso_639_1': 'en'...</td>\n",
       "      <td>Released</td>\n",
       "      <td>Best of enemies. Worst of friends.</td>\n",
       "      <td>Tom &amp; Jerry</td>\n",
       "      <td>False</td>\n",
       "      <td>6.823</td>\n",
       "      <td>2340</td>\n",
       "      <td>PG</td>\n",
       "    </tr>\n",
       "  </tbody>\n",
       "</table>\n",
       "<p>4 rows × 26 columns</p>\n",
       "</div>"
      ],
      "text/plain": [
       "   adult                     backdrop_path belongs_to_collection    budget  \\\n",
       "0  False  /9ns9463dwOeo1CK1JU2wirL5Yi1.jpg                  None  50000000   \n",
       "1  False  /9ns9463dwOeo1CK1JU2wirL5Yi1.jpg                  None  50000000   \n",
       "2  False  /9ns9463dwOeo1CK1JU2wirL5Yi1.jpg                  None  50000000   \n",
       "3  False  /9ns9463dwOeo1CK1JU2wirL5Yi1.jpg                  None  50000000   \n",
       "\n",
       "                                              genres  \\\n",
       "0  [{'id': 35, 'name': 'Comedy'}, {'id': 10751, '...   \n",
       "1  [{'id': 35, 'name': 'Comedy'}, {'id': 10751, '...   \n",
       "2  [{'id': 35, 'name': 'Comedy'}, {'id': 10751, '...   \n",
       "3  [{'id': 35, 'name': 'Comedy'}, {'id': 10751, '...   \n",
       "\n",
       "                           homepage      id    imdb_id original_language  \\\n",
       "0  https://www.tomandjerrymovie.com  587807  tt1361336                en   \n",
       "1  https://www.tomandjerrymovie.com  587807  tt1361336                en   \n",
       "2  https://www.tomandjerrymovie.com  587807  tt1361336                en   \n",
       "3  https://www.tomandjerrymovie.com  587807  tt1361336                en   \n",
       "\n",
       "  original_title  ...    revenue  runtime  \\\n",
       "0    Tom & Jerry  ...  136536687      101   \n",
       "1    Tom & Jerry  ...  136536687      101   \n",
       "2    Tom & Jerry  ...  136536687      101   \n",
       "3    Tom & Jerry  ...  136536687      101   \n",
       "\n",
       "                                    spoken_languages    status  \\\n",
       "0  [{'english_name': 'English', 'iso_639_1': 'en'...  Released   \n",
       "1  [{'english_name': 'English', 'iso_639_1': 'en'...  Released   \n",
       "2  [{'english_name': 'English', 'iso_639_1': 'en'...  Released   \n",
       "3  [{'english_name': 'English', 'iso_639_1': 'en'...  Released   \n",
       "\n",
       "                              tagline        title  video  vote_average  \\\n",
       "0  Best of enemies. Worst of friends.  Tom & Jerry  False         6.823   \n",
       "1  Best of enemies. Worst of friends.  Tom & Jerry  False         6.823   \n",
       "2  Best of enemies. Worst of friends.  Tom & Jerry  False         6.823   \n",
       "3  Best of enemies. Worst of friends.  Tom & Jerry  False         6.823   \n",
       "\n",
       "  vote_count certification  \n",
       "0       2340            PG  \n",
       "1       2340            PG  \n",
       "2       2340            PG  \n",
       "3       2340            PG  \n",
       "\n",
       "[4 rows x 26 columns]"
      ]
     },
     "execution_count": 12,
     "metadata": {},
     "output_type": "execute_result"
    }
   ],
   "source": [
    "test_ids = [\"tt0848228\", \"tt0115937\",\"tt0848228\",\"tt0332280\"]\n",
    "results = []\n",
    "errors = []\n",
    "for movie_id in test_ids:\n",
    "    try:\n",
    "        movie_info = get_movie_with_rating(movie_id)\n",
    "        results.append(movie_info)\n",
    "    except Exception as e:\n",
    "        errors.append([movie_id, e])\n",
    "pd.DataFrame(results)"
   ]
  },
  {
   "cell_type": "code",
   "execution_count": 13,
   "id": "54019573-cab7-44a8-bab8-5b5dfa01c942",
   "metadata": {},
   "outputs": [
    {
     "name": "stdout",
     "output_type": "stream",
     "text": [
      "- Number of errors: 0\n"
     ]
    },
    {
     "data": {
      "text/plain": [
       "[]"
      ]
     },
     "execution_count": 13,
     "metadata": {},
     "output_type": "execute_result"
    }
   ],
   "source": [
    "print(f\"- Number of errors: {len(errors)}\")\n",
    "errors"
   ]
  },
  {
   "cell_type": "code",
   "execution_count": 14,
   "id": "2ebe3d19-9964-451f-bc7e-520cef619b95",
   "metadata": {},
   "outputs": [
    {
     "data": {
      "text/plain": [
       "['.ipynb_checkpoints',\n",
       " 'movies-ERD.png',\n",
       " 'title-akas-us-only.csv',\n",
       " 'title.basics.csv',\n",
       " 'title.ratings.csv',\n",
       " 'tmdb_api_results_2000.json',\n",
       " 'tmdb_api_results_2001.json',\n",
       " 'tmdb_data_2000.csv.gz']"
      ]
     },
     "execution_count": 14,
     "metadata": {},
     "output_type": "execute_result"
    }
   ],
   "source": [
    "FOLDER = \"Data/\"\n",
    "os.listdir(FOLDER)"
   ]
  },
  {
   "cell_type": "code",
   "execution_count": 15,
   "id": "f0abfd53-9d98-4e34-8ed5-7b379d7274ca",
   "metadata": {},
   "outputs": [],
   "source": [
    "YEARS_TO_GET = [2001,2002]"
   ]
  },
  {
   "cell_type": "code",
   "execution_count": 16,
   "id": "0631b99b-f9da-48ad-8ebb-094db2ed7d02",
   "metadata": {},
   "outputs": [
    {
     "data": {
      "application/vnd.jupyter.widget-view+json": {
       "model_id": "a3a518f49eb24d80aaf7cd05f3bbdcf2",
       "version_major": 2,
       "version_minor": 0
      },
      "text/plain": [
       "YEARS:   0%|          | 0/2 [00:00<?, ?it/s]"
      ]
     },
     "metadata": {},
     "output_type": "display_data"
    }
   ],
   "source": [
    "# Start of OUTER loop\n",
    "for YEAR in tqdm_notebook(YEARS_TO_GET, desc='YEARS', position=0):\n",
    "    #Get index and movie id from list\n",
    "    try:\n",
    "    # Retrieve then data for the movie id\n",
    "        temp = get_movie_with_rating(movie_id)  \n",
    "    # Append/extend results to existing file using a pre-made function\n",
    "        write_json(temp,JSON_FILE)\n",
    "    # Short 20 ms sleep to prevent overwhelming server\n",
    "        time.sleep(0.02)\n",
    "    \n",
    "    except Exception as e:\n",
    "        errors.append([movie_id, e])\n",
    "\n"
   ]
  },
  {
   "cell_type": "code",
   "execution_count": 17,
   "id": "cc90839e-7ad4-4476-9715-83f4fa3a4bb3",
   "metadata": {},
   "outputs": [],
   "source": [
    "def write_json(new_data, filename): \n",
    "    \"\"\"Appends a list of records (new_data) to a json file (filename). \n",
    "    Adapted from: https://www.geeksforgeeks.org/append-to-json-file-using-python/\"\"\"  \n",
    "    \n",
    "    with open(filename,'r+') as file:\n",
    "        # First we load existing data into a dict.\n",
    "        file_data = json.load(file)\n",
    "        ## Choose extend or append\n",
    "        if (type(new_data) == list) & (type(file_data) == list):\n",
    "            file_data.extend(new_data)\n",
    "        else:\n",
    "             file_data.append(new_data)\n",
    "        # Sets file's current position at offset.\n",
    "        file.seek(0)\n",
    "        # convert back to json.\n",
    "        json.dump(file_data, file)"
   ]
  },
  {
   "cell_type": "code",
   "execution_count": 18,
   "id": "92f2f7e2-e105-4123-bb5e-435efc66db4a",
   "metadata": {},
   "outputs": [
    {
     "name": "stdout",
     "output_type": "stream",
     "text": [
      "<class 'pandas.core.frame.DataFrame'>\n",
      "RangeIndex: 86979 entries, 0 to 86978\n",
      "Data columns (total 10 columns):\n",
      " #   Column          Non-Null Count  Dtype  \n",
      "---  ------          --------------  -----  \n",
      " 0   Unnamed: 0      86979 non-null  int64  \n",
      " 1   tconst          86979 non-null  object \n",
      " 2   titleType       86979 non-null  object \n",
      " 3   primaryTitle    86979 non-null  object \n",
      " 4   originalTitle   86979 non-null  object \n",
      " 5   isAdult         86979 non-null  int64  \n",
      " 6   startYear       86979 non-null  float64\n",
      " 7   endYear         0 non-null      float64\n",
      " 8   runtimeMinutes  86979 non-null  int64  \n",
      " 9   genres          86979 non-null  object \n",
      "dtypes: float64(2), int64(3), object(5)\n",
      "memory usage: 6.6+ MB\n"
     ]
    },
    {
     "data": {
      "text/html": [
       "<div>\n",
       "<style scoped>\n",
       "    .dataframe tbody tr th:only-of-type {\n",
       "        vertical-align: middle;\n",
       "    }\n",
       "\n",
       "    .dataframe tbody tr th {\n",
       "        vertical-align: top;\n",
       "    }\n",
       "\n",
       "    .dataframe thead th {\n",
       "        text-align: right;\n",
       "    }\n",
       "</style>\n",
       "<table border=\"1\" class=\"dataframe\">\n",
       "  <thead>\n",
       "    <tr style=\"text-align: right;\">\n",
       "      <th></th>\n",
       "      <th>Unnamed: 0</th>\n",
       "      <th>tconst</th>\n",
       "      <th>titleType</th>\n",
       "      <th>primaryTitle</th>\n",
       "      <th>originalTitle</th>\n",
       "      <th>isAdult</th>\n",
       "      <th>startYear</th>\n",
       "      <th>endYear</th>\n",
       "      <th>runtimeMinutes</th>\n",
       "      <th>genres</th>\n",
       "    </tr>\n",
       "  </thead>\n",
       "  <tbody>\n",
       "    <tr>\n",
       "      <th>0</th>\n",
       "      <td>34802</td>\n",
       "      <td>tt0035423</td>\n",
       "      <td>movie</td>\n",
       "      <td>Kate &amp; Leopold</td>\n",
       "      <td>Kate &amp; Leopold</td>\n",
       "      <td>0</td>\n",
       "      <td>2001.0</td>\n",
       "      <td>NaN</td>\n",
       "      <td>118</td>\n",
       "      <td>Comedy,Fantasy,Romance</td>\n",
       "    </tr>\n",
       "    <tr>\n",
       "      <th>1</th>\n",
       "      <td>61114</td>\n",
       "      <td>tt0062336</td>\n",
       "      <td>movie</td>\n",
       "      <td>The Tango of the Widower and Its Distorting Mi...</td>\n",
       "      <td>El tango del viudo y su espejo deformante</td>\n",
       "      <td>0</td>\n",
       "      <td>2020.0</td>\n",
       "      <td>NaN</td>\n",
       "      <td>70</td>\n",
       "      <td>Drama</td>\n",
       "    </tr>\n",
       "  </tbody>\n",
       "</table>\n",
       "</div>"
      ],
      "text/plain": [
       "   Unnamed: 0     tconst titleType  \\\n",
       "0       34802  tt0035423     movie   \n",
       "1       61114  tt0062336     movie   \n",
       "\n",
       "                                        primaryTitle  \\\n",
       "0                                     Kate & Leopold   \n",
       "1  The Tango of the Widower and Its Distorting Mi...   \n",
       "\n",
       "                               originalTitle  isAdult  startYear  endYear  \\\n",
       "0                             Kate & Leopold        0     2001.0      NaN   \n",
       "1  El tango del viudo y su espejo deformante        0     2020.0      NaN   \n",
       "\n",
       "   runtimeMinutes                  genres  \n",
       "0             118  Comedy,Fantasy,Romance  \n",
       "1              70                   Drama  "
      ]
     },
     "execution_count": 18,
     "metadata": {},
     "output_type": "execute_result"
    }
   ],
   "source": [
    "basics = pd.read_csv('Data/title.basics.csv')\n",
    "basics.info()\n",
    "basics.head(2)"
   ]
  },
  {
   "cell_type": "code",
   "execution_count": 19,
   "id": "23cf7147-b986-4100-9be6-8c2382e112d1",
   "metadata": {},
   "outputs": [],
   "source": [
    "YEAR = 2000\n",
    "error = []"
   ]
  },
  {
   "cell_type": "code",
   "execution_count": 20,
   "id": "c77bffa2-8d0f-4cf2-aa77-b73b9bbf4647",
   "metadata": {},
   "outputs": [],
   "source": [
    "JSON_FILE = f'{FOLDER}tmdb_api_results_{YEAR}.json'\n",
    "file_exists = os.path.isfile(JSON_FILE)"
   ]
  },
  {
   "cell_type": "code",
   "execution_count": 21,
   "id": "fa5999eb-3da4-447b-b4a7-c6fef7e6c9cd",
   "metadata": {},
   "outputs": [],
   "source": [
    "# If it does not exist: create it\n",
    "if file_exists == False:\n",
    "    # Print a message indicating the file is being created \n",
    "    print(f\"Creating {JSON_FILE} for API results for {YEAR}.\")\n",
    "    # save an empty dict with just \"imdb_id\" to the new json file.\n",
    "    with open(JSON_FILE,'w') as f:\n",
    "        json.dump([{'imdb_id':0}],f)\n",
    "        "
   ]
  },
  {
   "cell_type": "code",
   "execution_count": 22,
   "id": "a4f8e300-0a7f-4a8c-83d9-bdd9de48b68d",
   "metadata": {},
   "outputs": [],
   "source": [
    "df = basics.loc[basics['startYear'] == YEAR].copy()\n",
    "movies_id = df['tconst']"
   ]
  },
  {
   "cell_type": "code",
   "execution_count": 23,
   "id": "0b0b7266-1a1c-4e27-82d3-5d017a871b78",
   "metadata": {},
   "outputs": [],
   "source": [
    "# Load existing data from json into a dataframe called \"previous_df\"\n",
    "previous_df = pd.read_json(JSON_FILE)"
   ]
  },
  {
   "cell_type": "code",
   "execution_count": 24,
   "id": "69c40249-a76b-4812-94c7-f27f05f586ba",
   "metadata": {},
   "outputs": [],
   "source": [
    "movie_ids_to_get = movies_id[~movies_id.isin(previous_df['imdb_id'])]"
   ]
  },
  {
   "cell_type": "code",
   "execution_count": 26,
   "id": "529374f5-33be-4282-bcae-208dac46fb00",
   "metadata": {},
   "outputs": [
    {
     "data": {
      "application/vnd.jupyter.widget-view+json": {
       "model_id": "12a8df437e4342489397add49b9686c6",
       "version_major": 2,
       "version_minor": 0
      },
      "text/plain": [
       "Movies from 2000:   0%|          | 0/1457 [00:00<?, ?it/s]"
      ]
     },
     "metadata": {},
     "output_type": "display_data"
    }
   ],
   "source": [
    "# Loop through movie_ids_to_get with a tqdm progress bar\n",
    "for movie_id in tqdm_notebook(movie_ids_to_get, f\"Movies from {YEAR}\"):\n",
    "    try:\n",
    "    # Retrieve then data for the movie id\n",
    "        temp = get_movie_with_rating(movie_id)  \n",
    "    # Append/extend results to existing file using a pre-made function\n",
    "        write_json(temp,JSON_FILE)\n",
    "    # Short 20 ms sleep to prevent overwhelming server\n",
    "        time.sleep(0.02)\n",
    "    \n",
    "    except Exception as e:\n",
    "        errors.append([movie_id, e])"
   ]
  },
  {
   "cell_type": "code",
   "execution_count": 27,
   "id": "1dd2e9c2-0252-4c9e-9062-5116971660e2",
   "metadata": {},
   "outputs": [
    {
     "name": "stdout",
     "output_type": "stream",
     "text": [
      "- Totall errors: 2\n"
     ]
    }
   ],
   "source": [
    "print(f\"- Totall errors: {len(errors)}\")"
   ]
  },
  {
   "cell_type": "code",
   "execution_count": 28,
   "id": "1b1f1768-b9f3-44dd-a883-90676eb9af4d",
   "metadata": {},
   "outputs": [],
   "source": [
    "df_2000 = pd.read_json(JSON_FILE)\n",
    "df_2000.to_csv(f\"{FOLDER}tmdb_data_{YEAR}.csv.gz\", compression=\"gzip\", index=False)"
   ]
  },
  {
   "cell_type": "code",
   "execution_count": 29,
   "id": "d10baaa5-474b-4482-9b58-4012ac20355a",
   "metadata": {},
   "outputs": [],
   "source": [
    "YEAR = 2001\n",
    "error = []"
   ]
  },
  {
   "cell_type": "code",
   "execution_count": 30,
   "id": "090a9a90-7345-4f9f-b69c-0cc3683732f7",
   "metadata": {},
   "outputs": [],
   "source": [
    "JSON_FILE = f'{FOLDER}tmdb_api_results_{YEAR}.json'\n",
    "file_exists = os.path.isfile(JSON_FILE)"
   ]
  },
  {
   "cell_type": "code",
   "execution_count": 31,
   "id": "bffb0677-b566-4396-8eaf-6f4b25bb5bb6",
   "metadata": {},
   "outputs": [],
   "source": [
    "# If it does not exist: create it\n",
    "if file_exists == False:\n",
    "    # Print a message indicating the file is being created \n",
    "    print(f\"Creating {JSON_FILE} for API results for {YEAR}.\")\n",
    "    # save an empty dict with just \"imdb_id\" to the new json file.\n",
    "    with open(JSON_FILE,'w') as f:\n",
    "        json.dump([{'imdb_id':0}],f)"
   ]
  },
  {
   "cell_type": "code",
   "execution_count": 33,
   "id": "5e5ed29d-f588-43cb-98ef-505083d1d5f8",
   "metadata": {},
   "outputs": [],
   "source": [
    "df = basics.loc[basics['startYear'] == YEAR].copy()\n",
    "movies_id = df['tconst']"
   ]
  },
  {
   "cell_type": "code",
   "execution_count": 34,
   "id": "dee277e0-3a4c-469a-96de-773038e9f49d",
   "metadata": {},
   "outputs": [],
   "source": [
    "previous_df = pd.read_json(JSON_FILE)"
   ]
  },
  {
   "cell_type": "code",
   "execution_count": 35,
   "id": "22f41221-79ce-4c63-8c0b-aa9b5b82b8c7",
   "metadata": {},
   "outputs": [],
   "source": [
    "movie_ids_to_get = movies_id[~movies_id.isin(previous_df['imdb_id'])]"
   ]
  },
  {
   "cell_type": "code",
   "execution_count": 36,
   "id": "ae8c4fc9-ddc5-42e1-80ad-a11b6b182cf9",
   "metadata": {},
   "outputs": [
    {
     "data": {
      "application/vnd.jupyter.widget-view+json": {
       "model_id": "957d11bd84b24fd5880308ba40716985",
       "version_major": 2,
       "version_minor": 0
      },
      "text/plain": [
       "Movies from 2001:   0%|          | 0/1576 [00:00<?, ?it/s]"
      ]
     },
     "metadata": {},
     "output_type": "display_data"
    }
   ],
   "source": [
    "# Loop through movie_ids_to_get with a tqdm progress bar\n",
    "for movie_id in tqdm_notebook(movie_ids_to_get, f\"Movies from {YEAR}\"):\n",
    "    try:\n",
    "    # Retrieve then data for the movie id\n",
    "        temp = get_movie_with_rating(movie_id)  \n",
    "    # Append/extend results to existing file using a pre-made function\n",
    "        write_json(temp,JSON_FILE)\n",
    "    # Short 20 ms sleep to prevent overwhelming server\n",
    "        time.sleep(0.02)\n",
    "    \n",
    "    except Exception as e:\n",
    "        errors.append([movie_id, e])"
   ]
  },
  {
   "cell_type": "code",
   "execution_count": 37,
   "id": "875c087e-143f-43cc-ac31-589c21acd4b8",
   "metadata": {},
   "outputs": [
    {
     "name": "stdout",
     "output_type": "stream",
     "text": [
      "- Totall errors: 2\n"
     ]
    }
   ],
   "source": [
    "print(f\"- Totall errors: {len(errors)}\")"
   ]
  },
  {
   "cell_type": "code",
   "execution_count": 38,
   "id": "7516ad35-ecea-43b8-94e4-86d89b419771",
   "metadata": {},
   "outputs": [],
   "source": [
    "df_2001 = pd.read_json(JSON_FILE)\n",
    "df_2001.to_csv(f\"{FOLDER}tmdb_data_{YEAR}.csv.gz\", compression=\"gzip\", index=False)"
   ]
  },
  {
   "cell_type": "code",
   "execution_count": 39,
   "id": "ee7e2f48-2250-42b4-a590-e4f85d20d549",
   "metadata": {},
   "outputs": [],
   "source": [
    "YEAR = 2002\n",
    "error = []"
   ]
  },
  {
   "cell_type": "code",
   "execution_count": 40,
   "id": "bbf99fa3-a1c4-43dd-af4e-a5fe1d0ac26e",
   "metadata": {},
   "outputs": [],
   "source": [
    "JSON_FILE = f'{FOLDER}tmdb_api_results_{YEAR}.json'\n",
    "file_exists = os.path.isfile(JSON_FILE)"
   ]
  },
  {
   "cell_type": "code",
   "execution_count": 41,
   "id": "a936e523-68b2-48f8-b486-135654a86589",
   "metadata": {},
   "outputs": [
    {
     "name": "stdout",
     "output_type": "stream",
     "text": [
      "Creating Data/tmdb_api_results_2002.json for API results for 2002.\n"
     ]
    }
   ],
   "source": [
    "# If it does not exist: create it\n",
    "if file_exists == False:\n",
    "    # Print a message indicating the file is being created \n",
    "    print(f\"Creating {JSON_FILE} for API results for {YEAR}.\")\n",
    "    # save an empty dict with just \"imdb_id\" to the new json file.\n",
    "    with open(JSON_FILE,'w') as f:\n",
    "        json.dump([{'imdb_id':0}],f)"
   ]
  },
  {
   "cell_type": "code",
   "execution_count": 42,
   "id": "6706bffa-6db3-4f66-a932-c5db8cde79f0",
   "metadata": {},
   "outputs": [],
   "source": [
    "df = basics.loc[basics['startYear'] == YEAR].copy()\n",
    "movies_id = df['tconst']"
   ]
  },
  {
   "cell_type": "code",
   "execution_count": 43,
   "id": "2d596aca-3077-4488-b155-f4dd809d065d",
   "metadata": {},
   "outputs": [],
   "source": [
    "previous_df = pd.read_json(JSON_FILE)"
   ]
  },
  {
   "cell_type": "code",
   "execution_count": 44,
   "id": "390f0fd6-70f6-446a-9b46-4396faa987ce",
   "metadata": {},
   "outputs": [],
   "source": [
    "movie_ids_to_get = movies_id[~movies_id.isin(previous_df['imdb_id'])]"
   ]
  },
  {
   "cell_type": "code",
   "execution_count": 45,
   "id": "ca490778-d6f5-457f-abc6-94da0dc03355",
   "metadata": {},
   "outputs": [
    {
     "data": {
      "application/vnd.jupyter.widget-view+json": {
       "model_id": "79bd18c7b4ef4e458c7cd2a2c8913e22",
       "version_major": 2,
       "version_minor": 0
      },
      "text/plain": [
       "Movies from 2002:   0%|          | 0/1572 [00:00<?, ?it/s]"
      ]
     },
     "metadata": {},
     "output_type": "display_data"
    }
   ],
   "source": [
    "for movie_id in tqdm_notebook(movie_ids_to_get, f\"Movies from {YEAR}\"):\n",
    "    try:\n",
    "    # Retrieve then data for the movie id\n",
    "        temp = get_movie_with_rating(movie_id)  \n",
    "    # Append/extend results to existing file using a pre-made function\n",
    "        write_json(temp,JSON_FILE)\n",
    "    # Short 20 ms sleep to prevent overwhelming server\n",
    "        time.sleep(0.02)\n",
    "    \n",
    "    except Exception as e:\n",
    "        errors.append([movie_id, e])"
   ]
  },
  {
   "cell_type": "code",
   "execution_count": 46,
   "id": "aa4f96c2-00f7-44b8-9193-0ec8424fb1ef",
   "metadata": {},
   "outputs": [
    {
     "name": "stdout",
     "output_type": "stream",
     "text": [
      "- Totall errors: 2\n"
     ]
    }
   ],
   "source": [
    "print(f\"- Totall errors: {len(errors)}\")"
   ]
  },
  {
   "cell_type": "code",
   "execution_count": 47,
   "id": "6d05d5fc-fa96-4816-89b4-2f8326a787f6",
   "metadata": {},
   "outputs": [],
   "source": [
    "df_2002 = pd.read_json(JSON_FILE)\n",
    "df_2002.to_csv(f\"{FOLDER}tmdb_data_{YEAR}.csv.gz\", compression=\"gzip\", index=False)"
   ]
  },
  {
   "cell_type": "code",
   "execution_count": 48,
   "id": "5849d16f-6ce3-4838-b6f7-b2bb3580d19a",
   "metadata": {},
   "outputs": [
    {
     "data": {
      "text/plain": [
       "['Data\\\\tmdb_data_2000.csv.gz',\n",
       " 'Data\\\\tmdb_data_2001.csv.gz',\n",
       " 'Data\\\\tmdb_data_2002.csv.gz']"
      ]
     },
     "execution_count": 48,
     "metadata": {},
     "output_type": "execute_result"
    }
   ],
   "source": [
    "import glob\n",
    "# Use glob to get all filepaths that match the pattern (*=wildcard)\n",
    "tmdb_files = sorted(glob.glob(\"Data/tmdb_data*.csv.gz\"))\n",
    "tmdb_files"
   ]
  },
  {
   "cell_type": "code",
   "execution_count": 51,
   "id": "28092fea-1581-45b5-96ef-3ab74ffcb371",
   "metadata": {},
   "outputs": [
    {
     "data": {
      "text/html": [
       "<div>\n",
       "<style scoped>\n",
       "    .dataframe tbody tr th:only-of-type {\n",
       "        vertical-align: middle;\n",
       "    }\n",
       "\n",
       "    .dataframe tbody tr th {\n",
       "        vertical-align: top;\n",
       "    }\n",
       "\n",
       "    .dataframe thead th {\n",
       "        text-align: right;\n",
       "    }\n",
       "</style>\n",
       "<table border=\"1\" class=\"dataframe\">\n",
       "  <thead>\n",
       "    <tr style=\"text-align: right;\">\n",
       "      <th></th>\n",
       "      <th>imdb_id</th>\n",
       "      <th>adult</th>\n",
       "      <th>backdrop_path</th>\n",
       "      <th>belongs_to_collection</th>\n",
       "      <th>budget</th>\n",
       "      <th>genres</th>\n",
       "      <th>homepage</th>\n",
       "      <th>id</th>\n",
       "      <th>original_language</th>\n",
       "      <th>original_title</th>\n",
       "      <th>...</th>\n",
       "      <th>revenue</th>\n",
       "      <th>runtime</th>\n",
       "      <th>spoken_languages</th>\n",
       "      <th>status</th>\n",
       "      <th>tagline</th>\n",
       "      <th>title</th>\n",
       "      <th>video</th>\n",
       "      <th>vote_average</th>\n",
       "      <th>vote_count</th>\n",
       "      <th>certification</th>\n",
       "    </tr>\n",
       "  </thead>\n",
       "  <tbody>\n",
       "    <tr>\n",
       "      <th>0</th>\n",
       "      <td>0</td>\n",
       "      <td>NaN</td>\n",
       "      <td>NaN</td>\n",
       "      <td>NaN</td>\n",
       "      <td>NaN</td>\n",
       "      <td>NaN</td>\n",
       "      <td>NaN</td>\n",
       "      <td>NaN</td>\n",
       "      <td>NaN</td>\n",
       "      <td>NaN</td>\n",
       "      <td>...</td>\n",
       "      <td>NaN</td>\n",
       "      <td>NaN</td>\n",
       "      <td>NaN</td>\n",
       "      <td>NaN</td>\n",
       "      <td>NaN</td>\n",
       "      <td>NaN</td>\n",
       "      <td>NaN</td>\n",
       "      <td>NaN</td>\n",
       "      <td>NaN</td>\n",
       "      <td>NaN</td>\n",
       "    </tr>\n",
       "    <tr>\n",
       "      <th>1</th>\n",
       "      <td>tt1361336</td>\n",
       "      <td>0.0</td>\n",
       "      <td>/9ns9463dwOeo1CK1JU2wirL5Yi1.jpg</td>\n",
       "      <td>NaN</td>\n",
       "      <td>50000000.0</td>\n",
       "      <td>[{'id': 35, 'name': 'Comedy'}, {'id': 10751, '...</td>\n",
       "      <td>https://www.tomandjerrymovie.com</td>\n",
       "      <td>587807.0</td>\n",
       "      <td>en</td>\n",
       "      <td>Tom &amp; Jerry</td>\n",
       "      <td>...</td>\n",
       "      <td>136536687.0</td>\n",
       "      <td>101.0</td>\n",
       "      <td>[{'english_name': 'English', 'iso_639_1': 'en'...</td>\n",
       "      <td>Released</td>\n",
       "      <td>Best of enemies. Worst of friends.</td>\n",
       "      <td>Tom &amp; Jerry</td>\n",
       "      <td>0.0</td>\n",
       "      <td>6.823</td>\n",
       "      <td>2340.0</td>\n",
       "      <td>PG</td>\n",
       "    </tr>\n",
       "    <tr>\n",
       "      <th>2</th>\n",
       "      <td>tt1361336</td>\n",
       "      <td>0.0</td>\n",
       "      <td>/9ns9463dwOeo1CK1JU2wirL5Yi1.jpg</td>\n",
       "      <td>NaN</td>\n",
       "      <td>50000000.0</td>\n",
       "      <td>[{'id': 35, 'name': 'Comedy'}, {'id': 10751, '...</td>\n",
       "      <td>https://www.tomandjerrymovie.com</td>\n",
       "      <td>587807.0</td>\n",
       "      <td>en</td>\n",
       "      <td>Tom &amp; Jerry</td>\n",
       "      <td>...</td>\n",
       "      <td>136536687.0</td>\n",
       "      <td>101.0</td>\n",
       "      <td>[{'english_name': 'English', 'iso_639_1': 'en'...</td>\n",
       "      <td>Released</td>\n",
       "      <td>Best of enemies. Worst of friends.</td>\n",
       "      <td>Tom &amp; Jerry</td>\n",
       "      <td>0.0</td>\n",
       "      <td>6.823</td>\n",
       "      <td>2340.0</td>\n",
       "      <td>PG</td>\n",
       "    </tr>\n",
       "    <tr>\n",
       "      <th>3</th>\n",
       "      <td>tt1361336</td>\n",
       "      <td>0.0</td>\n",
       "      <td>/9ns9463dwOeo1CK1JU2wirL5Yi1.jpg</td>\n",
       "      <td>NaN</td>\n",
       "      <td>50000000.0</td>\n",
       "      <td>[{'id': 35, 'name': 'Comedy'}, {'id': 10751, '...</td>\n",
       "      <td>https://www.tomandjerrymovie.com</td>\n",
       "      <td>587807.0</td>\n",
       "      <td>en</td>\n",
       "      <td>Tom &amp; Jerry</td>\n",
       "      <td>...</td>\n",
       "      <td>136536687.0</td>\n",
       "      <td>101.0</td>\n",
       "      <td>[{'english_name': 'English', 'iso_639_1': 'en'...</td>\n",
       "      <td>Released</td>\n",
       "      <td>Best of enemies. Worst of friends.</td>\n",
       "      <td>Tom &amp; Jerry</td>\n",
       "      <td>0.0</td>\n",
       "      <td>6.823</td>\n",
       "      <td>2340.0</td>\n",
       "      <td>PG</td>\n",
       "    </tr>\n",
       "    <tr>\n",
       "      <th>4</th>\n",
       "      <td>tt1361336</td>\n",
       "      <td>0.0</td>\n",
       "      <td>/9ns9463dwOeo1CK1JU2wirL5Yi1.jpg</td>\n",
       "      <td>NaN</td>\n",
       "      <td>50000000.0</td>\n",
       "      <td>[{'id': 35, 'name': 'Comedy'}, {'id': 10751, '...</td>\n",
       "      <td>https://www.tomandjerrymovie.com</td>\n",
       "      <td>587807.0</td>\n",
       "      <td>en</td>\n",
       "      <td>Tom &amp; Jerry</td>\n",
       "      <td>...</td>\n",
       "      <td>136536687.0</td>\n",
       "      <td>101.0</td>\n",
       "      <td>[{'english_name': 'English', 'iso_639_1': 'en'...</td>\n",
       "      <td>Released</td>\n",
       "      <td>Best of enemies. Worst of friends.</td>\n",
       "      <td>Tom &amp; Jerry</td>\n",
       "      <td>0.0</td>\n",
       "      <td>6.823</td>\n",
       "      <td>2340.0</td>\n",
       "      <td>PG</td>\n",
       "    </tr>\n",
       "  </tbody>\n",
       "</table>\n",
       "<p>5 rows × 26 columns</p>\n",
       "</div>"
      ],
      "text/plain": [
       "     imdb_id  adult                     backdrop_path  belongs_to_collection  \\\n",
       "0          0    NaN                               NaN                    NaN   \n",
       "1  tt1361336    0.0  /9ns9463dwOeo1CK1JU2wirL5Yi1.jpg                    NaN   \n",
       "2  tt1361336    0.0  /9ns9463dwOeo1CK1JU2wirL5Yi1.jpg                    NaN   \n",
       "3  tt1361336    0.0  /9ns9463dwOeo1CK1JU2wirL5Yi1.jpg                    NaN   \n",
       "4  tt1361336    0.0  /9ns9463dwOeo1CK1JU2wirL5Yi1.jpg                    NaN   \n",
       "\n",
       "       budget                                             genres  \\\n",
       "0         NaN                                                NaN   \n",
       "1  50000000.0  [{'id': 35, 'name': 'Comedy'}, {'id': 10751, '...   \n",
       "2  50000000.0  [{'id': 35, 'name': 'Comedy'}, {'id': 10751, '...   \n",
       "3  50000000.0  [{'id': 35, 'name': 'Comedy'}, {'id': 10751, '...   \n",
       "4  50000000.0  [{'id': 35, 'name': 'Comedy'}, {'id': 10751, '...   \n",
       "\n",
       "                           homepage        id original_language  \\\n",
       "0                               NaN       NaN               NaN   \n",
       "1  https://www.tomandjerrymovie.com  587807.0                en   \n",
       "2  https://www.tomandjerrymovie.com  587807.0                en   \n",
       "3  https://www.tomandjerrymovie.com  587807.0                en   \n",
       "4  https://www.tomandjerrymovie.com  587807.0                en   \n",
       "\n",
       "  original_title  ...      revenue  runtime  \\\n",
       "0            NaN  ...          NaN      NaN   \n",
       "1    Tom & Jerry  ...  136536687.0    101.0   \n",
       "2    Tom & Jerry  ...  136536687.0    101.0   \n",
       "3    Tom & Jerry  ...  136536687.0    101.0   \n",
       "4    Tom & Jerry  ...  136536687.0    101.0   \n",
       "\n",
       "                                    spoken_languages    status  \\\n",
       "0                                                NaN       NaN   \n",
       "1  [{'english_name': 'English', 'iso_639_1': 'en'...  Released   \n",
       "2  [{'english_name': 'English', 'iso_639_1': 'en'...  Released   \n",
       "3  [{'english_name': 'English', 'iso_639_1': 'en'...  Released   \n",
       "4  [{'english_name': 'English', 'iso_639_1': 'en'...  Released   \n",
       "\n",
       "                              tagline        title  video  vote_average  \\\n",
       "0                                 NaN          NaN    NaN           NaN   \n",
       "1  Best of enemies. Worst of friends.  Tom & Jerry    0.0         6.823   \n",
       "2  Best of enemies. Worst of friends.  Tom & Jerry    0.0         6.823   \n",
       "3  Best of enemies. Worst of friends.  Tom & Jerry    0.0         6.823   \n",
       "4  Best of enemies. Worst of friends.  Tom & Jerry    0.0         6.823   \n",
       "\n",
       "  vote_count certification  \n",
       "0        NaN           NaN  \n",
       "1     2340.0            PG  \n",
       "2     2340.0            PG  \n",
       "3     2340.0            PG  \n",
       "4     2340.0            PG  \n",
       "\n",
       "[5 rows x 26 columns]"
      ]
     },
     "execution_count": 51,
     "metadata": {},
     "output_type": "execute_result"
    }
   ],
   "source": [
    "# Use read_csv in a list comprehension and combine with concat to load all files\n",
    "df = pd.concat([pd.read_csv(f) for f in tmdb_files] )\n",
    "df.head()"
   ]
  }
 ],
 "metadata": {
  "kernelspec": {
   "display_name": "Python 3 (ipykernel)",
   "language": "python",
   "name": "python3"
  },
  "language_info": {
   "codemirror_mode": {
    "name": "ipython",
    "version": 3
   },
   "file_extension": ".py",
   "mimetype": "text/x-python",
   "name": "python",
   "nbconvert_exporter": "python",
   "pygments_lexer": "ipython3",
   "version": "3.10.10"
  }
 },
 "nbformat": 4,
 "nbformat_minor": 5
}
